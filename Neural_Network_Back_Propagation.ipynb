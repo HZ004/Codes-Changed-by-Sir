{
 "cells": [
  {
   "cell_type": "code",
   "execution_count": null,
   "metadata": {
    "colab": {
     "base_uri": "https://localhost:8080/"
    },
    "id": "gPQCjnuqiOdy",
    "outputId": "9b1a42cf-4c31-401a-de55-1b2d277ae618"
   },
   "outputs": [
    {
     "name": "stdout",
     "output_type": "stream",
     "text": [
      "Looking in indexes: https://pypi.org/simple, https://us-python.pkg.dev/colab-wheels/public/simple/\n",
      "Requirement already satisfied: tensorflow in /usr/local/lib/python3.7/dist-packages (2.8.2+zzzcolab20220719082949)\n",
      "Requirement already satisfied: wrapt>=1.11.0 in /usr/local/lib/python3.7/dist-packages (from tensorflow) (1.14.1)\n",
      "Requirement already satisfied: typing-extensions>=3.6.6 in /usr/local/lib/python3.7/dist-packages (from tensorflow) (4.1.1)\n",
      "Requirement already satisfied: six>=1.12.0 in /usr/local/lib/python3.7/dist-packages (from tensorflow) (1.15.0)\n",
      "Requirement already satisfied: flatbuffers>=1.12 in /usr/local/lib/python3.7/dist-packages (from tensorflow) (2.0)\n",
      "Requirement already satisfied: protobuf<3.20,>=3.9.2 in /usr/local/lib/python3.7/dist-packages (from tensorflow) (3.17.3)\n",
      "Requirement already satisfied: grpcio<2.0,>=1.24.3 in /usr/local/lib/python3.7/dist-packages (from tensorflow) (1.47.0)\n",
      "Requirement already satisfied: google-pasta>=0.1.1 in /usr/local/lib/python3.7/dist-packages (from tensorflow) (0.2.0)\n",
      "Requirement already satisfied: h5py>=2.9.0 in /usr/local/lib/python3.7/dist-packages (from tensorflow) (3.1.0)\n",
      "Requirement already satisfied: termcolor>=1.1.0 in /usr/local/lib/python3.7/dist-packages (from tensorflow) (1.1.0)\n",
      "Requirement already satisfied: libclang>=9.0.1 in /usr/local/lib/python3.7/dist-packages (from tensorflow) (14.0.6)\n",
      "Requirement already satisfied: numpy>=1.20 in /usr/local/lib/python3.7/dist-packages (from tensorflow) (1.21.6)\n",
      "Requirement already satisfied: keras-preprocessing>=1.1.1 in /usr/local/lib/python3.7/dist-packages (from tensorflow) (1.1.2)\n",
      "Requirement already satisfied: tensorboard<2.9,>=2.8 in /usr/local/lib/python3.7/dist-packages (from tensorflow) (2.8.0)\n",
      "Requirement already satisfied: astunparse>=1.6.0 in /usr/local/lib/python3.7/dist-packages (from tensorflow) (1.6.3)\n",
      "Requirement already satisfied: setuptools in /usr/local/lib/python3.7/dist-packages (from tensorflow) (57.4.0)\n",
      "Requirement already satisfied: tensorflow-io-gcs-filesystem>=0.23.1 in /usr/local/lib/python3.7/dist-packages (from tensorflow) (0.26.0)\n",
      "Requirement already satisfied: absl-py>=0.4.0 in /usr/local/lib/python3.7/dist-packages (from tensorflow) (1.2.0)\n",
      "Requirement already satisfied: keras<2.9,>=2.8.0rc0 in /usr/local/lib/python3.7/dist-packages (from tensorflow) (2.8.0)\n",
      "Requirement already satisfied: opt-einsum>=2.3.2 in /usr/local/lib/python3.7/dist-packages (from tensorflow) (3.3.0)\n",
      "Requirement already satisfied: tensorflow-estimator<2.9,>=2.8 in /usr/local/lib/python3.7/dist-packages (from tensorflow) (2.8.0)\n",
      "Requirement already satisfied: gast>=0.2.1 in /usr/local/lib/python3.7/dist-packages (from tensorflow) (0.5.3)\n",
      "Requirement already satisfied: wheel<1.0,>=0.23.0 in /usr/local/lib/python3.7/dist-packages (from astunparse>=1.6.0->tensorflow) (0.37.1)\n",
      "Requirement already satisfied: cached-property in /usr/local/lib/python3.7/dist-packages (from h5py>=2.9.0->tensorflow) (1.5.2)\n",
      "Requirement already satisfied: markdown>=2.6.8 in /usr/local/lib/python3.7/dist-packages (from tensorboard<2.9,>=2.8->tensorflow) (3.4.1)\n",
      "Requirement already satisfied: werkzeug>=0.11.15 in /usr/local/lib/python3.7/dist-packages (from tensorboard<2.9,>=2.8->tensorflow) (1.0.1)\n",
      "Requirement already satisfied: google-auth-oauthlib<0.5,>=0.4.1 in /usr/local/lib/python3.7/dist-packages (from tensorboard<2.9,>=2.8->tensorflow) (0.4.6)\n",
      "Requirement already satisfied: requests<3,>=2.21.0 in /usr/local/lib/python3.7/dist-packages (from tensorboard<2.9,>=2.8->tensorflow) (2.23.0)\n",
      "Requirement already satisfied: tensorboard-plugin-wit>=1.6.0 in /usr/local/lib/python3.7/dist-packages (from tensorboard<2.9,>=2.8->tensorflow) (1.8.1)\n",
      "Requirement already satisfied: tensorboard-data-server<0.7.0,>=0.6.0 in /usr/local/lib/python3.7/dist-packages (from tensorboard<2.9,>=2.8->tensorflow) (0.6.1)\n",
      "Requirement already satisfied: google-auth<3,>=1.6.3 in /usr/local/lib/python3.7/dist-packages (from tensorboard<2.9,>=2.8->tensorflow) (1.35.0)\n",
      "Requirement already satisfied: cachetools<5.0,>=2.0.0 in /usr/local/lib/python3.7/dist-packages (from google-auth<3,>=1.6.3->tensorboard<2.9,>=2.8->tensorflow) (4.2.4)\n",
      "Requirement already satisfied: pyasn1-modules>=0.2.1 in /usr/local/lib/python3.7/dist-packages (from google-auth<3,>=1.6.3->tensorboard<2.9,>=2.8->tensorflow) (0.2.8)\n",
      "Requirement already satisfied: rsa<5,>=3.1.4 in /usr/local/lib/python3.7/dist-packages (from google-auth<3,>=1.6.3->tensorboard<2.9,>=2.8->tensorflow) (4.9)\n",
      "Requirement already satisfied: requests-oauthlib>=0.7.0 in /usr/local/lib/python3.7/dist-packages (from google-auth-oauthlib<0.5,>=0.4.1->tensorboard<2.9,>=2.8->tensorflow) (1.3.1)\n",
      "Requirement already satisfied: importlib-metadata>=4.4 in /usr/local/lib/python3.7/dist-packages (from markdown>=2.6.8->tensorboard<2.9,>=2.8->tensorflow) (4.12.0)\n",
      "Requirement already satisfied: zipp>=0.5 in /usr/local/lib/python3.7/dist-packages (from importlib-metadata>=4.4->markdown>=2.6.8->tensorboard<2.9,>=2.8->tensorflow) (3.8.1)\n",
      "Requirement already satisfied: pyasn1<0.5.0,>=0.4.6 in /usr/local/lib/python3.7/dist-packages (from pyasn1-modules>=0.2.1->google-auth<3,>=1.6.3->tensorboard<2.9,>=2.8->tensorflow) (0.4.8)\n",
      "Requirement already satisfied: idna<3,>=2.5 in /usr/local/lib/python3.7/dist-packages (from requests<3,>=2.21.0->tensorboard<2.9,>=2.8->tensorflow) (2.10)\n",
      "Requirement already satisfied: certifi>=2017.4.17 in /usr/local/lib/python3.7/dist-packages (from requests<3,>=2.21.0->tensorboard<2.9,>=2.8->tensorflow) (2022.6.15)\n",
      "Requirement already satisfied: chardet<4,>=3.0.2 in /usr/local/lib/python3.7/dist-packages (from requests<3,>=2.21.0->tensorboard<2.9,>=2.8->tensorflow) (3.0.4)\n",
      "Requirement already satisfied: urllib3!=1.25.0,!=1.25.1,<1.26,>=1.21.1 in /usr/local/lib/python3.7/dist-packages (from requests<3,>=2.21.0->tensorboard<2.9,>=2.8->tensorflow) (1.24.3)\n",
      "Requirement already satisfied: oauthlib>=3.0.0 in /usr/local/lib/python3.7/dist-packages (from requests-oauthlib>=0.7.0->google-auth-oauthlib<0.5,>=0.4.1->tensorboard<2.9,>=2.8->tensorflow) (3.2.0)\n"
     ]
    }
   ],
   "source": [
    "!pip install tensorflow"
   ]
  },
  {
   "cell_type": "code",
   "execution_count": null,
   "metadata": {
    "colab": {
     "base_uri": "https://localhost:8080/"
    },
    "id": "pvBp1oasiOd-",
    "outputId": "22776faa-6d82-4ecb-8499-31a0e3e9b383"
   },
   "outputs": [
    {
     "name": "stdout",
     "output_type": "stream",
     "text": [
      "Looking in indexes: https://pypi.org/simple, https://us-python.pkg.dev/colab-wheels/public/simple/\n",
      "Requirement already satisfied: keras in /usr/local/lib/python3.7/dist-packages (2.8.0)\n"
     ]
    }
   ],
   "source": [
    "!pip install keras"
   ]
  },
  {
   "cell_type": "code",
   "execution_count": null,
   "metadata": {
    "id": "67fq_HUhiOd-"
   },
   "outputs": [],
   "source": [
    "# Create your first MLP in Keras\n",
    "from keras.models import Sequential\n",
    "from keras.layers import Dense\n",
    "import numpy"
   ]
  },
  {
   "cell_type": "code",
   "execution_count": null,
   "metadata": {
    "colab": {
     "base_uri": "https://localhost:8080/",
     "height": 128,
     "resources": {
      "http://localhost:8080/nbextensions/google.colab/files.js": {
       "data": "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",
       "headers": [
        [
         "content-type",
         "application/javascript"
        ]
       ],
       "ok": true,
       "status": 200,
       "status_text": ""
      }
     }
    },
    "id": "kBi9DGrvWpDO",
    "outputId": "675ccae7-2c25-459f-98da-c84f62f41858"
   },
   "outputs": [
    {
     "data": {
      "text/html": [
       "\n",
       "     <input type=\"file\" id=\"files-de3ddea4-d9a1-475d-9467-2f503c23d83a\" name=\"files[]\" multiple disabled\n",
       "        style=\"border:none\" />\n",
       "     <output id=\"result-de3ddea4-d9a1-475d-9467-2f503c23d83a\">\n",
       "      Upload widget is only available when the cell has been executed in the\n",
       "      current browser session. Please rerun this cell to enable.\n",
       "      </output>\n",
       "      <script src=\"/nbextensions/google.colab/files.js\"></script> "
      ],
      "text/plain": [
       "<IPython.core.display.HTML object>"
      ]
     },
     "metadata": {},
     "output_type": "display_data"
    },
    {
     "name": "stdout",
     "output_type": "stream",
     "text": [
      "Saving pima-indians-diabetes.csv to pima-indians-diabetes.csv\n"
     ]
    },
    {
     "data": {
      "text/plain": [
       "{'pima-indians-diabetes.csv': b'6,148,72,35,0,33.6,0.627,50,1\\n1,85,66,29,0,26.6,0.351,31,0\\n8,183,64,0,0,23.3,0.672,32,1\\n1,89,66,23,94,28.1,0.167,21,0\\n0,137,40,35,168,43.1,2.288,33,1\\n5,116,74,0,0,25.6,0.201,30,0\\n3,78,50,32,88,31.0,0.248,26,1\\n10,115,0,0,0,35.3,0.134,29,0\\n2,197,70,45,543,30.5,0.158,53,1\\n8,125,96,0,0,0.0,0.232,54,1\\n4,110,92,0,0,37.6,0.191,30,0\\n10,168,74,0,0,38.0,0.537,34,1\\n10,139,80,0,0,27.1,1.441,57,0\\n1,189,60,23,846,30.1,0.398,59,1\\n5,166,72,19,175,25.8,0.587,51,1\\n7,100,0,0,0,30.0,0.484,32,1\\n0,118,84,47,230,45.8,0.551,31,1\\n7,107,74,0,0,29.6,0.254,31,1\\n1,103,30,38,83,43.3,0.183,33,0\\n1,115,70,30,96,34.6,0.529,32,1\\n3,126,88,41,235,39.3,0.704,27,0\\n8,99,84,0,0,35.4,0.388,50,0\\n7,196,90,0,0,39.8,0.451,41,1\\n9,119,80,35,0,29.0,0.263,29,1\\n11,143,94,33,146,36.6,0.254,51,1\\n10,125,70,26,115,31.1,0.205,41,1\\n7,147,76,0,0,39.4,0.257,43,1\\n1,97,66,15,140,23.2,0.487,22,0\\n13,145,82,19,110,22.2,0.245,57,0\\n5,117,92,0,0,34.1,0.337,38,0\\n5,109,75,26,0,36.0,0.546,60,0\\n3,158,76,36,245,31.6,0.851,28,1\\n3,88,58,11,54,24.8,0.267,22,0\\n6,92,92,0,0,19.9,0.188,28,0\\n10,122,78,31,0,27.6,0.512,45,0\\n4,103,60,33,192,24.0,0.966,33,0\\n11,138,76,0,0,33.2,0.420,35,0\\n9,102,76,37,0,32.9,0.665,46,1\\n2,90,68,42,0,38.2,0.503,27,1\\n4,111,72,47,207,37.1,1.390,56,1\\n3,180,64,25,70,34.0,0.271,26,0\\n7,133,84,0,0,40.2,0.696,37,0\\n7,106,92,18,0,22.7,0.235,48,0\\n9,171,110,24,240,45.4,0.721,54,1\\n7,159,64,0,0,27.4,0.294,40,0\\n0,180,66,39,0,42.0,1.893,25,1\\n1,146,56,0,0,29.7,0.564,29,0\\n2,71,70,27,0,28.0,0.586,22,0\\n7,103,66,32,0,39.1,0.344,31,1\\n7,105,0,0,0,0.0,0.305,24,0\\n1,103,80,11,82,19.4,0.491,22,0\\n1,101,50,15,36,24.2,0.526,26,0\\n5,88,66,21,23,24.4,0.342,30,0\\n8,176,90,34,300,33.7,0.467,58,1\\n7,150,66,42,342,34.7,0.718,42,0\\n1,73,50,10,0,23.0,0.248,21,0\\n7,187,68,39,304,37.7,0.254,41,1\\n0,100,88,60,110,46.8,0.962,31,0\\n0,146,82,0,0,40.5,1.781,44,0\\n0,105,64,41,142,41.5,0.173,22,0\\n2,84,0,0,0,0.0,0.304,21,0\\n8,133,72,0,0,32.9,0.270,39,1\\n5,44,62,0,0,25.0,0.587,36,0\\n2,141,58,34,128,25.4,0.699,24,0\\n7,114,66,0,0,32.8,0.258,42,1\\n5,99,74,27,0,29.0,0.203,32,0\\n0,109,88,30,0,32.5,0.855,38,1\\n2,109,92,0,0,42.7,0.845,54,0\\n1,95,66,13,38,19.6,0.334,25,0\\n4,146,85,27,100,28.9,0.189,27,0\\n2,100,66,20,90,32.9,0.867,28,1\\n5,139,64,35,140,28.6,0.411,26,0\\n13,126,90,0,0,43.4,0.583,42,1\\n4,129,86,20,270,35.1,0.231,23,0\\n1,79,75,30,0,32.0,0.396,22,0\\n1,0,48,20,0,24.7,0.140,22,0\\n7,62,78,0,0,32.6,0.391,41,0\\n5,95,72,33,0,37.7,0.370,27,0\\n0,131,0,0,0,43.2,0.270,26,1\\n2,112,66,22,0,25.0,0.307,24,0\\n3,113,44,13,0,22.4,0.140,22,0\\n2,74,0,0,0,0.0,0.102,22,0\\n7,83,78,26,71,29.3,0.767,36,0\\n0,101,65,28,0,24.6,0.237,22,0\\n5,137,108,0,0,48.8,0.227,37,1\\n2,110,74,29,125,32.4,0.698,27,0\\n13,106,72,54,0,36.6,0.178,45,0\\n2,100,68,25,71,38.5,0.324,26,0\\n15,136,70,32,110,37.1,0.153,43,1\\n1,107,68,19,0,26.5,0.165,24,0\\n1,80,55,0,0,19.1,0.258,21,0\\n4,123,80,15,176,32.0,0.443,34,0\\n7,81,78,40,48,46.7,0.261,42,0\\n4,134,72,0,0,23.8,0.277,60,1\\n2,142,82,18,64,24.7,0.761,21,0\\n6,144,72,27,228,33.9,0.255,40,0\\n2,92,62,28,0,31.6,0.130,24,0\\n1,71,48,18,76,20.4,0.323,22,0\\n6,93,50,30,64,28.7,0.356,23,0\\n1,122,90,51,220,49.7,0.325,31,1\\n1,163,72,0,0,39.0,1.222,33,1\\n1,151,60,0,0,26.1,0.179,22,0\\n0,125,96,0,0,22.5,0.262,21,0\\n1,81,72,18,40,26.6,0.283,24,0\\n2,85,65,0,0,39.6,0.930,27,0\\n1,126,56,29,152,28.7,0.801,21,0\\n1,96,122,0,0,22.4,0.207,27,0\\n4,144,58,28,140,29.5,0.287,37,0\\n3,83,58,31,18,34.3,0.336,25,0\\n0,95,85,25,36,37.4,0.247,24,1\\n3,171,72,33,135,33.3,0.199,24,1\\n8,155,62,26,495,34.0,0.543,46,1\\n1,89,76,34,37,31.2,0.192,23,0\\n4,76,62,0,0,34.0,0.391,25,0\\n7,160,54,32,175,30.5,0.588,39,1\\n4,146,92,0,0,31.2,0.539,61,1\\n5,124,74,0,0,34.0,0.220,38,1\\n5,78,48,0,0,33.7,0.654,25,0\\n4,97,60,23,0,28.2,0.443,22,0\\n4,99,76,15,51,23.2,0.223,21,0\\n0,162,76,56,100,53.2,0.759,25,1\\n6,111,64,39,0,34.2,0.260,24,0\\n2,107,74,30,100,33.6,0.404,23,0\\n5,132,80,0,0,26.8,0.186,69,0\\n0,113,76,0,0,33.3,0.278,23,1\\n1,88,30,42,99,55.0,0.496,26,1\\n3,120,70,30,135,42.9,0.452,30,0\\n1,118,58,36,94,33.3,0.261,23,0\\n1,117,88,24,145,34.5,0.403,40,1\\n0,105,84,0,0,27.9,0.741,62,1\\n4,173,70,14,168,29.7,0.361,33,1\\n9,122,56,0,0,33.3,1.114,33,1\\n3,170,64,37,225,34.5,0.356,30,1\\n8,84,74,31,0,38.3,0.457,39,0\\n2,96,68,13,49,21.1,0.647,26,0\\n2,125,60,20,140,33.8,0.088,31,0\\n0,100,70,26,50,30.8,0.597,21,0\\n0,93,60,25,92,28.7,0.532,22,0\\n0,129,80,0,0,31.2,0.703,29,0\\n5,105,72,29,325,36.9,0.159,28,0\\n3,128,78,0,0,21.1,0.268,55,0\\n5,106,82,30,0,39.5,0.286,38,0\\n2,108,52,26,63,32.5,0.318,22,0\\n10,108,66,0,0,32.4,0.272,42,1\\n4,154,62,31,284,32.8,0.237,23,0\\n0,102,75,23,0,0.0,0.572,21,0\\n9,57,80,37,0,32.8,0.096,41,0\\n2,106,64,35,119,30.5,1.400,34,0\\n5,147,78,0,0,33.7,0.218,65,0\\n2,90,70,17,0,27.3,0.085,22,0\\n1,136,74,50,204,37.4,0.399,24,0\\n4,114,65,0,0,21.9,0.432,37,0\\n9,156,86,28,155,34.3,1.189,42,1\\n1,153,82,42,485,40.6,0.687,23,0\\n8,188,78,0,0,47.9,0.137,43,1\\n7,152,88,44,0,50.0,0.337,36,1\\n2,99,52,15,94,24.6,0.637,21,0\\n1,109,56,21,135,25.2,0.833,23,0\\n2,88,74,19,53,29.0,0.229,22,0\\n17,163,72,41,114,40.9,0.817,47,1\\n4,151,90,38,0,29.7,0.294,36,0\\n7,102,74,40,105,37.2,0.204,45,0\\n0,114,80,34,285,44.2,0.167,27,0\\n2,100,64,23,0,29.7,0.368,21,0\\n0,131,88,0,0,31.6,0.743,32,1\\n6,104,74,18,156,29.9,0.722,41,1\\n3,148,66,25,0,32.5,0.256,22,0\\n4,120,68,0,0,29.6,0.709,34,0\\n4,110,66,0,0,31.9,0.471,29,0\\n3,111,90,12,78,28.4,0.495,29,0\\n6,102,82,0,0,30.8,0.180,36,1\\n6,134,70,23,130,35.4,0.542,29,1\\n2,87,0,23,0,28.9,0.773,25,0\\n1,79,60,42,48,43.5,0.678,23,0\\n2,75,64,24,55,29.7,0.370,33,0\\n8,179,72,42,130,32.7,0.719,36,1\\n6,85,78,0,0,31.2,0.382,42,0\\n0,129,110,46,130,67.1,0.319,26,1\\n5,143,78,0,0,45.0,0.190,47,0\\n5,130,82,0,0,39.1,0.956,37,1\\n6,87,80,0,0,23.2,0.084,32,0\\n0,119,64,18,92,34.9,0.725,23,0\\n1,0,74,20,23,27.7,0.299,21,0\\n5,73,60,0,0,26.8,0.268,27,0\\n4,141,74,0,0,27.6,0.244,40,0\\n7,194,68,28,0,35.9,0.745,41,1\\n8,181,68,36,495,30.1,0.615,60,1\\n1,128,98,41,58,32.0,1.321,33,1\\n8,109,76,39,114,27.9,0.640,31,1\\n5,139,80,35,160,31.6,0.361,25,1\\n3,111,62,0,0,22.6,0.142,21,0\\n9,123,70,44,94,33.1,0.374,40,0\\n7,159,66,0,0,30.4,0.383,36,1\\n11,135,0,0,0,52.3,0.578,40,1\\n8,85,55,20,0,24.4,0.136,42,0\\n5,158,84,41,210,39.4,0.395,29,1\\n1,105,58,0,0,24.3,0.187,21,0\\n3,107,62,13,48,22.9,0.678,23,1\\n4,109,64,44,99,34.8,0.905,26,1\\n4,148,60,27,318,30.9,0.150,29,1\\n0,113,80,16,0,31.0,0.874,21,0\\n1,138,82,0,0,40.1,0.236,28,0\\n0,108,68,20,0,27.3,0.787,32,0\\n2,99,70,16,44,20.4,0.235,27,0\\n6,103,72,32,190,37.7,0.324,55,0\\n5,111,72,28,0,23.9,0.407,27,0\\n8,196,76,29,280,37.5,0.605,57,1\\n5,162,104,0,0,37.7,0.151,52,1\\n1,96,64,27,87,33.2,0.289,21,0\\n7,184,84,33,0,35.5,0.355,41,1\\n2,81,60,22,0,27.7,0.290,25,0\\n0,147,85,54,0,42.8,0.375,24,0\\n7,179,95,31,0,34.2,0.164,60,0\\n0,140,65,26,130,42.6,0.431,24,1\\n9,112,82,32,175,34.2,0.260,36,1\\n12,151,70,40,271,41.8,0.742,38,1\\n5,109,62,41,129,35.8,0.514,25,1\\n6,125,68,30,120,30.0,0.464,32,0\\n5,85,74,22,0,29.0,1.224,32,1\\n5,112,66,0,0,37.8,0.261,41,1\\n0,177,60,29,478,34.6,1.072,21,1\\n2,158,90,0,0,31.6,0.805,66,1\\n7,119,0,0,0,25.2,0.209,37,0\\n7,142,60,33,190,28.8,0.687,61,0\\n1,100,66,15,56,23.6,0.666,26,0\\n1,87,78,27,32,34.6,0.101,22,0\\n0,101,76,0,0,35.7,0.198,26,0\\n3,162,52,38,0,37.2,0.652,24,1\\n4,197,70,39,744,36.7,2.329,31,0\\n0,117,80,31,53,45.2,0.089,24,0\\n4,142,86,0,0,44.0,0.645,22,1\\n6,134,80,37,370,46.2,0.238,46,1\\n1,79,80,25,37,25.4,0.583,22,0\\n4,122,68,0,0,35.0,0.394,29,0\\n3,74,68,28,45,29.7,0.293,23,0\\n4,171,72,0,0,43.6,0.479,26,1\\n7,181,84,21,192,35.9,0.586,51,1\\n0,179,90,27,0,44.1,0.686,23,1\\n9,164,84,21,0,30.8,0.831,32,1\\n0,104,76,0,0,18.4,0.582,27,0\\n1,91,64,24,0,29.2,0.192,21,0\\n4,91,70,32,88,33.1,0.446,22,0\\n3,139,54,0,0,25.6,0.402,22,1\\n6,119,50,22,176,27.1,1.318,33,1\\n2,146,76,35,194,38.2,0.329,29,0\\n9,184,85,15,0,30.0,1.213,49,1\\n10,122,68,0,0,31.2,0.258,41,0\\n0,165,90,33,680,52.3,0.427,23,0\\n9,124,70,33,402,35.4,0.282,34,0\\n1,111,86,19,0,30.1,0.143,23,0\\n9,106,52,0,0,31.2,0.380,42,0\\n2,129,84,0,0,28.0,0.284,27,0\\n2,90,80,14,55,24.4,0.249,24,0\\n0,86,68,32,0,35.8,0.238,25,0\\n12,92,62,7,258,27.6,0.926,44,1\\n1,113,64,35,0,33.6,0.543,21,1\\n3,111,56,39,0,30.1,0.557,30,0\\n2,114,68,22,0,28.7,0.092,25,0\\n1,193,50,16,375,25.9,0.655,24,0\\n11,155,76,28,150,33.3,1.353,51,1\\n3,191,68,15,130,30.9,0.299,34,0\\n3,141,0,0,0,30.0,0.761,27,1\\n4,95,70,32,0,32.1,0.612,24,0\\n3,142,80,15,0,32.4,0.200,63,0\\n4,123,62,0,0,32.0,0.226,35,1\\n5,96,74,18,67,33.6,0.997,43,0\\n0,138,0,0,0,36.3,0.933,25,1\\n2,128,64,42,0,40.0,1.101,24,0\\n0,102,52,0,0,25.1,0.078,21,0\\n2,146,0,0,0,27.5,0.240,28,1\\n10,101,86,37,0,45.6,1.136,38,1\\n2,108,62,32,56,25.2,0.128,21,0\\n3,122,78,0,0,23.0,0.254,40,0\\n1,71,78,50,45,33.2,0.422,21,0\\n13,106,70,0,0,34.2,0.251,52,0\\n2,100,70,52,57,40.5,0.677,25,0\\n7,106,60,24,0,26.5,0.296,29,1\\n0,104,64,23,116,27.8,0.454,23,0\\n5,114,74,0,0,24.9,0.744,57,0\\n2,108,62,10,278,25.3,0.881,22,0\\n0,146,70,0,0,37.9,0.334,28,1\\n10,129,76,28,122,35.9,0.280,39,0\\n7,133,88,15,155,32.4,0.262,37,0\\n7,161,86,0,0,30.4,0.165,47,1\\n2,108,80,0,0,27.0,0.259,52,1\\n7,136,74,26,135,26.0,0.647,51,0\\n5,155,84,44,545,38.7,0.619,34,0\\n1,119,86,39,220,45.6,0.808,29,1\\n4,96,56,17,49,20.8,0.340,26,0\\n5,108,72,43,75,36.1,0.263,33,0\\n0,78,88,29,40,36.9,0.434,21,0\\n0,107,62,30,74,36.6,0.757,25,1\\n2,128,78,37,182,43.3,1.224,31,1\\n1,128,48,45,194,40.5,0.613,24,1\\n0,161,50,0,0,21.9,0.254,65,0\\n6,151,62,31,120,35.5,0.692,28,0\\n2,146,70,38,360,28.0,0.337,29,1\\n0,126,84,29,215,30.7,0.520,24,0\\n14,100,78,25,184,36.6,0.412,46,1\\n8,112,72,0,0,23.6,0.840,58,0\\n0,167,0,0,0,32.3,0.839,30,1\\n2,144,58,33,135,31.6,0.422,25,1\\n5,77,82,41,42,35.8,0.156,35,0\\n5,115,98,0,0,52.9,0.209,28,1\\n3,150,76,0,0,21.0,0.207,37,0\\n2,120,76,37,105,39.7,0.215,29,0\\n10,161,68,23,132,25.5,0.326,47,1\\n0,137,68,14,148,24.8,0.143,21,0\\n0,128,68,19,180,30.5,1.391,25,1\\n2,124,68,28,205,32.9,0.875,30,1\\n6,80,66,30,0,26.2,0.313,41,0\\n0,106,70,37,148,39.4,0.605,22,0\\n2,155,74,17,96,26.6,0.433,27,1\\n3,113,50,10,85,29.5,0.626,25,0\\n7,109,80,31,0,35.9,1.127,43,1\\n2,112,68,22,94,34.1,0.315,26,0\\n3,99,80,11,64,19.3,0.284,30,0\\n3,182,74,0,0,30.5,0.345,29,1\\n3,115,66,39,140,38.1,0.150,28,0\\n6,194,78,0,0,23.5,0.129,59,1\\n4,129,60,12,231,27.5,0.527,31,0\\n3,112,74,30,0,31.6,0.197,25,1\\n0,124,70,20,0,27.4,0.254,36,1\\n13,152,90,33,29,26.8,0.731,43,1\\n2,112,75,32,0,35.7,0.148,21,0\\n1,157,72,21,168,25.6,0.123,24,0\\n1,122,64,32,156,35.1,0.692,30,1\\n10,179,70,0,0,35.1,0.200,37,0\\n2,102,86,36,120,45.5,0.127,23,1\\n6,105,70,32,68,30.8,0.122,37,0\\n8,118,72,19,0,23.1,1.476,46,0\\n2,87,58,16,52,32.7,0.166,25,0\\n1,180,0,0,0,43.3,0.282,41,1\\n12,106,80,0,0,23.6,0.137,44,0\\n1,95,60,18,58,23.9,0.260,22,0\\n0,165,76,43,255,47.9,0.259,26,0\\n0,117,0,0,0,33.8,0.932,44,0\\n5,115,76,0,0,31.2,0.343,44,1\\n9,152,78,34,171,34.2,0.893,33,1\\n7,178,84,0,0,39.9,0.331,41,1\\n1,130,70,13,105,25.9,0.472,22,0\\n1,95,74,21,73,25.9,0.673,36,0\\n1,0,68,35,0,32.0,0.389,22,0\\n5,122,86,0,0,34.7,0.290,33,0\\n8,95,72,0,0,36.8,0.485,57,0\\n8,126,88,36,108,38.5,0.349,49,0\\n1,139,46,19,83,28.7,0.654,22,0\\n3,116,0,0,0,23.5,0.187,23,0\\n3,99,62,19,74,21.8,0.279,26,0\\n5,0,80,32,0,41.0,0.346,37,1\\n4,92,80,0,0,42.2,0.237,29,0\\n4,137,84,0,0,31.2,0.252,30,0\\n3,61,82,28,0,34.4,0.243,46,0\\n1,90,62,12,43,27.2,0.580,24,0\\n3,90,78,0,0,42.7,0.559,21,0\\n9,165,88,0,0,30.4,0.302,49,1\\n1,125,50,40,167,33.3,0.962,28,1\\n13,129,0,30,0,39.9,0.569,44,1\\n12,88,74,40,54,35.3,0.378,48,0\\n1,196,76,36,249,36.5,0.875,29,1\\n5,189,64,33,325,31.2,0.583,29,1\\n5,158,70,0,0,29.8,0.207,63,0\\n5,103,108,37,0,39.2,0.305,65,0\\n4,146,78,0,0,38.5,0.520,67,1\\n4,147,74,25,293,34.9,0.385,30,0\\n5,99,54,28,83,34.0,0.499,30,0\\n6,124,72,0,0,27.6,0.368,29,1\\n0,101,64,17,0,21.0,0.252,21,0\\n3,81,86,16,66,27.5,0.306,22,0\\n1,133,102,28,140,32.8,0.234,45,1\\n3,173,82,48,465,38.4,2.137,25,1\\n0,118,64,23,89,0.0,1.731,21,0\\n0,84,64,22,66,35.8,0.545,21,0\\n2,105,58,40,94,34.9,0.225,25,0\\n2,122,52,43,158,36.2,0.816,28,0\\n12,140,82,43,325,39.2,0.528,58,1\\n0,98,82,15,84,25.2,0.299,22,0\\n1,87,60,37,75,37.2,0.509,22,0\\n4,156,75,0,0,48.3,0.238,32,1\\n0,93,100,39,72,43.4,1.021,35,0\\n1,107,72,30,82,30.8,0.821,24,0\\n0,105,68,22,0,20.0,0.236,22,0\\n1,109,60,8,182,25.4,0.947,21,0\\n1,90,62,18,59,25.1,1.268,25,0\\n1,125,70,24,110,24.3,0.221,25,0\\n1,119,54,13,50,22.3,0.205,24,0\\n5,116,74,29,0,32.3,0.660,35,1\\n8,105,100,36,0,43.3,0.239,45,1\\n5,144,82,26,285,32.0,0.452,58,1\\n3,100,68,23,81,31.6,0.949,28,0\\n1,100,66,29,196,32.0,0.444,42,0\\n5,166,76,0,0,45.7,0.340,27,1\\n1,131,64,14,415,23.7,0.389,21,0\\n4,116,72,12,87,22.1,0.463,37,0\\n4,158,78,0,0,32.9,0.803,31,1\\n2,127,58,24,275,27.7,1.600,25,0\\n3,96,56,34,115,24.7,0.944,39,0\\n0,131,66,40,0,34.3,0.196,22,1\\n3,82,70,0,0,21.1,0.389,25,0\\n3,193,70,31,0,34.9,0.241,25,1\\n4,95,64,0,0,32.0,0.161,31,1\\n6,137,61,0,0,24.2,0.151,55,0\\n5,136,84,41,88,35.0,0.286,35,1\\n9,72,78,25,0,31.6,0.280,38,0\\n5,168,64,0,0,32.9,0.135,41,1\\n2,123,48,32,165,42.1,0.520,26,0\\n4,115,72,0,0,28.9,0.376,46,1\\n0,101,62,0,0,21.9,0.336,25,0\\n8,197,74,0,0,25.9,1.191,39,1\\n1,172,68,49,579,42.4,0.702,28,1\\n6,102,90,39,0,35.7,0.674,28,0\\n1,112,72,30,176,34.4,0.528,25,0\\n1,143,84,23,310,42.4,1.076,22,0\\n1,143,74,22,61,26.2,0.256,21,0\\n0,138,60,35,167,34.6,0.534,21,1\\n3,173,84,33,474,35.7,0.258,22,1\\n1,97,68,21,0,27.2,1.095,22,0\\n4,144,82,32,0,38.5,0.554,37,1\\n1,83,68,0,0,18.2,0.624,27,0\\n3,129,64,29,115,26.4,0.219,28,1\\n1,119,88,41,170,45.3,0.507,26,0\\n2,94,68,18,76,26.0,0.561,21,0\\n0,102,64,46,78,40.6,0.496,21,0\\n2,115,64,22,0,30.8,0.421,21,0\\n8,151,78,32,210,42.9,0.516,36,1\\n4,184,78,39,277,37.0,0.264,31,1\\n0,94,0,0,0,0.0,0.256,25,0\\n1,181,64,30,180,34.1,0.328,38,1\\n0,135,94,46,145,40.6,0.284,26,0\\n1,95,82,25,180,35.0,0.233,43,1\\n2,99,0,0,0,22.2,0.108,23,0\\n3,89,74,16,85,30.4,0.551,38,0\\n1,80,74,11,60,30.0,0.527,22,0\\n2,139,75,0,0,25.6,0.167,29,0\\n1,90,68,8,0,24.5,1.138,36,0\\n0,141,0,0,0,42.4,0.205,29,1\\n12,140,85,33,0,37.4,0.244,41,0\\n5,147,75,0,0,29.9,0.434,28,0\\n1,97,70,15,0,18.2,0.147,21,0\\n6,107,88,0,0,36.8,0.727,31,0\\n0,189,104,25,0,34.3,0.435,41,1\\n2,83,66,23,50,32.2,0.497,22,0\\n4,117,64,27,120,33.2,0.230,24,0\\n8,108,70,0,0,30.5,0.955,33,1\\n4,117,62,12,0,29.7,0.380,30,1\\n0,180,78,63,14,59.4,2.420,25,1\\n1,100,72,12,70,25.3,0.658,28,0\\n0,95,80,45,92,36.5,0.330,26,0\\n0,104,64,37,64,33.6,0.510,22,1\\n0,120,74,18,63,30.5,0.285,26,0\\n1,82,64,13,95,21.2,0.415,23,0\\n2,134,70,0,0,28.9,0.542,23,1\\n0,91,68,32,210,39.9,0.381,25,0\\n2,119,0,0,0,19.6,0.832,72,0\\n2,100,54,28,105,37.8,0.498,24,0\\n14,175,62,30,0,33.6,0.212,38,1\\n1,135,54,0,0,26.7,0.687,62,0\\n5,86,68,28,71,30.2,0.364,24,0\\n10,148,84,48,237,37.6,1.001,51,1\\n9,134,74,33,60,25.9,0.460,81,0\\n9,120,72,22,56,20.8,0.733,48,0\\n1,71,62,0,0,21.8,0.416,26,0\\n8,74,70,40,49,35.3,0.705,39,0\\n5,88,78,30,0,27.6,0.258,37,0\\n10,115,98,0,0,24.0,1.022,34,0\\n0,124,56,13,105,21.8,0.452,21,0\\n0,74,52,10,36,27.8,0.269,22,0\\n0,97,64,36,100,36.8,0.600,25,0\\n8,120,0,0,0,30.0,0.183,38,1\\n6,154,78,41,140,46.1,0.571,27,0\\n1,144,82,40,0,41.3,0.607,28,0\\n0,137,70,38,0,33.2,0.170,22,0\\n0,119,66,27,0,38.8,0.259,22,0\\n7,136,90,0,0,29.9,0.210,50,0\\n4,114,64,0,0,28.9,0.126,24,0\\n0,137,84,27,0,27.3,0.231,59,0\\n2,105,80,45,191,33.7,0.711,29,1\\n7,114,76,17,110,23.8,0.466,31,0\\n8,126,74,38,75,25.9,0.162,39,0\\n4,132,86,31,0,28.0,0.419,63,0\\n3,158,70,30,328,35.5,0.344,35,1\\n0,123,88,37,0,35.2,0.197,29,0\\n4,85,58,22,49,27.8,0.306,28,0\\n0,84,82,31,125,38.2,0.233,23,0\\n0,145,0,0,0,44.2,0.630,31,1\\n0,135,68,42,250,42.3,0.365,24,1\\n1,139,62,41,480,40.7,0.536,21,0\\n0,173,78,32,265,46.5,1.159,58,0\\n4,99,72,17,0,25.6,0.294,28,0\\n8,194,80,0,0,26.1,0.551,67,0\\n2,83,65,28,66,36.8,0.629,24,0\\n2,89,90,30,0,33.5,0.292,42,0\\n4,99,68,38,0,32.8,0.145,33,0\\n4,125,70,18,122,28.9,1.144,45,1\\n3,80,0,0,0,0.0,0.174,22,0\\n6,166,74,0,0,26.6,0.304,66,0\\n5,110,68,0,0,26.0,0.292,30,0\\n2,81,72,15,76,30.1,0.547,25,0\\n7,195,70,33,145,25.1,0.163,55,1\\n6,154,74,32,193,29.3,0.839,39,0\\n2,117,90,19,71,25.2,0.313,21,0\\n3,84,72,32,0,37.2,0.267,28,0\\n6,0,68,41,0,39.0,0.727,41,1\\n7,94,64,25,79,33.3,0.738,41,0\\n3,96,78,39,0,37.3,0.238,40,0\\n10,75,82,0,0,33.3,0.263,38,0\\n0,180,90,26,90,36.5,0.314,35,1\\n1,130,60,23,170,28.6,0.692,21,0\\n2,84,50,23,76,30.4,0.968,21,0\\n8,120,78,0,0,25.0,0.409,64,0\\n12,84,72,31,0,29.7,0.297,46,1\\n0,139,62,17,210,22.1,0.207,21,0\\n9,91,68,0,0,24.2,0.200,58,0\\n2,91,62,0,0,27.3,0.525,22,0\\n3,99,54,19,86,25.6,0.154,24,0\\n3,163,70,18,105,31.6,0.268,28,1\\n9,145,88,34,165,30.3,0.771,53,1\\n7,125,86,0,0,37.6,0.304,51,0\\n13,76,60,0,0,32.8,0.180,41,0\\n6,129,90,7,326,19.6,0.582,60,0\\n2,68,70,32,66,25.0,0.187,25,0\\n3,124,80,33,130,33.2,0.305,26,0\\n6,114,0,0,0,0.0,0.189,26,0\\n9,130,70,0,0,34.2,0.652,45,1\\n3,125,58,0,0,31.6,0.151,24,0\\n3,87,60,18,0,21.8,0.444,21,0\\n1,97,64,19,82,18.2,0.299,21,0\\n3,116,74,15,105,26.3,0.107,24,0\\n0,117,66,31,188,30.8,0.493,22,0\\n0,111,65,0,0,24.6,0.660,31,0\\n2,122,60,18,106,29.8,0.717,22,0\\n0,107,76,0,0,45.3,0.686,24,0\\n1,86,66,52,65,41.3,0.917,29,0\\n6,91,0,0,0,29.8,0.501,31,0\\n1,77,56,30,56,33.3,1.251,24,0\\n4,132,0,0,0,32.9,0.302,23,1\\n0,105,90,0,0,29.6,0.197,46,0\\n0,57,60,0,0,21.7,0.735,67,0\\n0,127,80,37,210,36.3,0.804,23,0\\n3,129,92,49,155,36.4,0.968,32,1\\n8,100,74,40,215,39.4,0.661,43,1\\n3,128,72,25,190,32.4,0.549,27,1\\n10,90,85,32,0,34.9,0.825,56,1\\n4,84,90,23,56,39.5,0.159,25,0\\n1,88,78,29,76,32.0,0.365,29,0\\n8,186,90,35,225,34.5,0.423,37,1\\n5,187,76,27,207,43.6,1.034,53,1\\n4,131,68,21,166,33.1,0.160,28,0\\n1,164,82,43,67,32.8,0.341,50,0\\n4,189,110,31,0,28.5,0.680,37,0\\n1,116,70,28,0,27.4,0.204,21,0\\n3,84,68,30,106,31.9,0.591,25,0\\n6,114,88,0,0,27.8,0.247,66,0\\n1,88,62,24,44,29.9,0.422,23,0\\n1,84,64,23,115,36.9,0.471,28,0\\n7,124,70,33,215,25.5,0.161,37,0\\n1,97,70,40,0,38.1,0.218,30,0\\n8,110,76,0,0,27.8,0.237,58,0\\n11,103,68,40,0,46.2,0.126,42,0\\n11,85,74,0,0,30.1,0.300,35,0\\n6,125,76,0,0,33.8,0.121,54,1\\n0,198,66,32,274,41.3,0.502,28,1\\n1,87,68,34,77,37.6,0.401,24,0\\n6,99,60,19,54,26.9,0.497,32,0\\n0,91,80,0,0,32.4,0.601,27,0\\n2,95,54,14,88,26.1,0.748,22,0\\n1,99,72,30,18,38.6,0.412,21,0\\n6,92,62,32,126,32.0,0.085,46,0\\n4,154,72,29,126,31.3,0.338,37,0\\n0,121,66,30,165,34.3,0.203,33,1\\n3,78,70,0,0,32.5,0.270,39,0\\n2,130,96,0,0,22.6,0.268,21,0\\n3,111,58,31,44,29.5,0.430,22,0\\n2,98,60,17,120,34.7,0.198,22,0\\n1,143,86,30,330,30.1,0.892,23,0\\n1,119,44,47,63,35.5,0.280,25,0\\n6,108,44,20,130,24.0,0.813,35,0\\n2,118,80,0,0,42.9,0.693,21,1\\n10,133,68,0,0,27.0,0.245,36,0\\n2,197,70,99,0,34.7,0.575,62,1\\n0,151,90,46,0,42.1,0.371,21,1\\n6,109,60,27,0,25.0,0.206,27,0\\n12,121,78,17,0,26.5,0.259,62,0\\n8,100,76,0,0,38.7,0.190,42,0\\n8,124,76,24,600,28.7,0.687,52,1\\n1,93,56,11,0,22.5,0.417,22,0\\n8,143,66,0,0,34.9,0.129,41,1\\n6,103,66,0,0,24.3,0.249,29,0\\n3,176,86,27,156,33.3,1.154,52,1\\n0,73,0,0,0,21.1,0.342,25,0\\n11,111,84,40,0,46.8,0.925,45,1\\n2,112,78,50,140,39.4,0.175,24,0\\n3,132,80,0,0,34.4,0.402,44,1\\n2,82,52,22,115,28.5,1.699,25,0\\n6,123,72,45,230,33.6,0.733,34,0\\n0,188,82,14,185,32.0,0.682,22,1\\n0,67,76,0,0,45.3,0.194,46,0\\n1,89,24,19,25,27.8,0.559,21,0\\n1,173,74,0,0,36.8,0.088,38,1\\n1,109,38,18,120,23.1,0.407,26,0\\n1,108,88,19,0,27.1,0.400,24,0\\n6,96,0,0,0,23.7,0.190,28,0\\n1,124,74,36,0,27.8,0.100,30,0\\n7,150,78,29,126,35.2,0.692,54,1\\n4,183,0,0,0,28.4,0.212,36,1\\n1,124,60,32,0,35.8,0.514,21,0\\n1,181,78,42,293,40.0,1.258,22,1\\n1,92,62,25,41,19.5,0.482,25,0\\n0,152,82,39,272,41.5,0.270,27,0\\n1,111,62,13,182,24.0,0.138,23,0\\n3,106,54,21,158,30.9,0.292,24,0\\n3,174,58,22,194,32.9,0.593,36,1\\n7,168,88,42,321,38.2,0.787,40,1\\n6,105,80,28,0,32.5,0.878,26,0\\n11,138,74,26,144,36.1,0.557,50,1\\n3,106,72,0,0,25.8,0.207,27,0\\n6,117,96,0,0,28.7,0.157,30,0\\n2,68,62,13,15,20.1,0.257,23,0\\n9,112,82,24,0,28.2,1.282,50,1\\n0,119,0,0,0,32.4,0.141,24,1\\n2,112,86,42,160,38.4,0.246,28,0\\n2,92,76,20,0,24.2,1.698,28,0\\n6,183,94,0,0,40.8,1.461,45,0\\n0,94,70,27,115,43.5,0.347,21,0\\n2,108,64,0,0,30.8,0.158,21,0\\n4,90,88,47,54,37.7,0.362,29,0\\n0,125,68,0,0,24.7,0.206,21,0\\n0,132,78,0,0,32.4,0.393,21,0\\n5,128,80,0,0,34.6,0.144,45,0\\n4,94,65,22,0,24.7,0.148,21,0\\n7,114,64,0,0,27.4,0.732,34,1\\n0,102,78,40,90,34.5,0.238,24,0\\n2,111,60,0,0,26.2,0.343,23,0\\n1,128,82,17,183,27.5,0.115,22,0\\n10,92,62,0,0,25.9,0.167,31,0\\n13,104,72,0,0,31.2,0.465,38,1\\n5,104,74,0,0,28.8,0.153,48,0\\n2,94,76,18,66,31.6,0.649,23,0\\n7,97,76,32,91,40.9,0.871,32,1\\n1,100,74,12,46,19.5,0.149,28,0\\n0,102,86,17,105,29.3,0.695,27,0\\n4,128,70,0,0,34.3,0.303,24,0\\n6,147,80,0,0,29.5,0.178,50,1\\n4,90,0,0,0,28.0,0.610,31,0\\n3,103,72,30,152,27.6,0.730,27,0\\n2,157,74,35,440,39.4,0.134,30,0\\n1,167,74,17,144,23.4,0.447,33,1\\n0,179,50,36,159,37.8,0.455,22,1\\n11,136,84,35,130,28.3,0.260,42,1\\n0,107,60,25,0,26.4,0.133,23,0\\n1,91,54,25,100,25.2,0.234,23,0\\n1,117,60,23,106,33.8,0.466,27,0\\n5,123,74,40,77,34.1,0.269,28,0\\n2,120,54,0,0,26.8,0.455,27,0\\n1,106,70,28,135,34.2,0.142,22,0\\n2,155,52,27,540,38.7,0.240,25,1\\n2,101,58,35,90,21.8,0.155,22,0\\n1,120,80,48,200,38.9,1.162,41,0\\n11,127,106,0,0,39.0,0.190,51,0\\n3,80,82,31,70,34.2,1.292,27,1\\n10,162,84,0,0,27.7,0.182,54,0\\n1,199,76,43,0,42.9,1.394,22,1\\n8,167,106,46,231,37.6,0.165,43,1\\n9,145,80,46,130,37.9,0.637,40,1\\n6,115,60,39,0,33.7,0.245,40,1\\n1,112,80,45,132,34.8,0.217,24,0\\n4,145,82,18,0,32.5,0.235,70,1\\n10,111,70,27,0,27.5,0.141,40,1\\n6,98,58,33,190,34.0,0.430,43,0\\n9,154,78,30,100,30.9,0.164,45,0\\n6,165,68,26,168,33.6,0.631,49,0\\n1,99,58,10,0,25.4,0.551,21,0\\n10,68,106,23,49,35.5,0.285,47,0\\n3,123,100,35,240,57.3,0.880,22,0\\n8,91,82,0,0,35.6,0.587,68,0\\n6,195,70,0,0,30.9,0.328,31,1\\n9,156,86,0,0,24.8,0.230,53,1\\n0,93,60,0,0,35.3,0.263,25,0\\n3,121,52,0,0,36.0,0.127,25,1\\n2,101,58,17,265,24.2,0.614,23,0\\n2,56,56,28,45,24.2,0.332,22,0\\n0,162,76,36,0,49.6,0.364,26,1\\n0,95,64,39,105,44.6,0.366,22,0\\n4,125,80,0,0,32.3,0.536,27,1\\n5,136,82,0,0,0.0,0.640,69,0\\n2,129,74,26,205,33.2,0.591,25,0\\n3,130,64,0,0,23.1,0.314,22,0\\n1,107,50,19,0,28.3,0.181,29,0\\n1,140,74,26,180,24.1,0.828,23,0\\n1,144,82,46,180,46.1,0.335,46,1\\n8,107,80,0,0,24.6,0.856,34,0\\n13,158,114,0,0,42.3,0.257,44,1\\n2,121,70,32,95,39.1,0.886,23,0\\n7,129,68,49,125,38.5,0.439,43,1\\n2,90,60,0,0,23.5,0.191,25,0\\n7,142,90,24,480,30.4,0.128,43,1\\n3,169,74,19,125,29.9,0.268,31,1\\n0,99,0,0,0,25.0,0.253,22,0\\n4,127,88,11,155,34.5,0.598,28,0\\n4,118,70,0,0,44.5,0.904,26,0\\n2,122,76,27,200,35.9,0.483,26,0\\n6,125,78,31,0,27.6,0.565,49,1\\n1,168,88,29,0,35.0,0.905,52,1\\n2,129,0,0,0,38.5,0.304,41,0\\n4,110,76,20,100,28.4,0.118,27,0\\n6,80,80,36,0,39.8,0.177,28,0\\n10,115,0,0,0,0.0,0.261,30,1\\n2,127,46,21,335,34.4,0.176,22,0\\n9,164,78,0,0,32.8,0.148,45,1\\n2,93,64,32,160,38.0,0.674,23,1\\n3,158,64,13,387,31.2,0.295,24,0\\n5,126,78,27,22,29.6,0.439,40,0\\n10,129,62,36,0,41.2,0.441,38,1\\n0,134,58,20,291,26.4,0.352,21,0\\n3,102,74,0,0,29.5,0.121,32,0\\n7,187,50,33,392,33.9,0.826,34,1\\n3,173,78,39,185,33.8,0.970,31,1\\n10,94,72,18,0,23.1,0.595,56,0\\n1,108,60,46,178,35.5,0.415,24,0\\n5,97,76,27,0,35.6,0.378,52,1\\n4,83,86,19,0,29.3,0.317,34,0\\n1,114,66,36,200,38.1,0.289,21,0\\n1,149,68,29,127,29.3,0.349,42,1\\n5,117,86,30,105,39.1,0.251,42,0\\n1,111,94,0,0,32.8,0.265,45,0\\n4,112,78,40,0,39.4,0.236,38,0\\n1,116,78,29,180,36.1,0.496,25,0\\n0,141,84,26,0,32.4,0.433,22,0\\n2,175,88,0,0,22.9,0.326,22,0\\n2,92,52,0,0,30.1,0.141,22,0\\n3,130,78,23,79,28.4,0.323,34,1\\n8,120,86,0,0,28.4,0.259,22,1\\n2,174,88,37,120,44.5,0.646,24,1\\n2,106,56,27,165,29.0,0.426,22,0\\n2,105,75,0,0,23.3,0.560,53,0\\n4,95,60,32,0,35.4,0.284,28,0\\n0,126,86,27,120,27.4,0.515,21,0\\n8,65,72,23,0,32.0,0.600,42,0\\n2,99,60,17,160,36.6,0.453,21,0\\n1,102,74,0,0,39.5,0.293,42,1\\n11,120,80,37,150,42.3,0.785,48,1\\n3,102,44,20,94,30.8,0.400,26,0\\n1,109,58,18,116,28.5,0.219,22,0\\n9,140,94,0,0,32.7,0.734,45,1\\n13,153,88,37,140,40.6,1.174,39,0\\n12,100,84,33,105,30.0,0.488,46,0\\n1,147,94,41,0,49.3,0.358,27,1\\n1,81,74,41,57,46.3,1.096,32,0\\n3,187,70,22,200,36.4,0.408,36,1\\n6,162,62,0,0,24.3,0.178,50,1\\n4,136,70,0,0,31.2,1.182,22,1\\n1,121,78,39,74,39.0,0.261,28,0\\n3,108,62,24,0,26.0,0.223,25,0\\n0,181,88,44,510,43.3,0.222,26,1\\n8,154,78,32,0,32.4,0.443,45,1\\n1,128,88,39,110,36.5,1.057,37,1\\n7,137,90,41,0,32.0,0.391,39,0\\n0,123,72,0,0,36.3,0.258,52,1\\n1,106,76,0,0,37.5,0.197,26,0\\n6,190,92,0,0,35.5,0.278,66,1\\n2,88,58,26,16,28.4,0.766,22,0\\n9,170,74,31,0,44.0,0.403,43,1\\n9,89,62,0,0,22.5,0.142,33,0\\n10,101,76,48,180,32.9,0.171,63,0\\n2,122,70,27,0,36.8,0.340,27,0\\n5,121,72,23,112,26.2,0.245,30,0\\n1,126,60,0,0,30.1,0.349,47,1\\n1,93,70,31,0,30.4,0.315,23,0\\n'}"
      ]
     },
     "execution_count": 5,
     "metadata": {},
     "output_type": "execute_result"
    }
   ],
   "source": [
    "from google.colab import files\n",
    "files.upload()"
   ]
  },
  {
   "cell_type": "code",
   "execution_count": null,
   "metadata": {
    "id": "4SGSqH3wiOd_"
   },
   "outputs": [],
   "source": [
    "# fix random seed for reproducibility\n",
    "seed = 7\n",
    "numpy.random.seed(seed)\n",
    "# load pima indians dataset\n",
    "dataset = numpy.loadtxt(\"pima-indians-diabetes.csv\", delimiter=\",\")\n",
    "# split into input (X) and output (Y) variables\n",
    "X = dataset[:,0:8]\n",
    "Y = dataset[:,8]"
   ]
  },
  {
   "cell_type": "code",
   "execution_count": null,
   "metadata": {
    "id": "ZNUWXgkniOeA"
   },
   "outputs": [],
   "source": [
    "# create model\n",
    "model = Sequential()\n",
    "model.add(Dense(12, input_dim=8,  activation='relu')) #1st layer\n",
    "model.add(Dense(8,  activation='relu')) #2nd layer\n",
    "model.add(Dense(1, activation='sigmoid')) #3rd layer or op layer"
   ]
  },
  {
   "cell_type": "markdown",
   "metadata": {
    "id": "jQti1G49iOeB"
   },
   "source": [
    "![image.png](attachment:image.png)"
   ]
  },
  {
   "cell_type": "code",
   "execution_count": null,
   "metadata": {
    "id": "y69e5XcziOeB"
   },
   "outputs": [],
   "source": [
    "# Compile model\n",
    "model.compile(loss='binary_crossentropy', optimizer='adam', metrics=['accuracy'])"
   ]
  },
  {
   "cell_type": "markdown",
   "metadata": {
    "id": "PKl-lm1R05sN"
   },
   "source": []
  },
  {
   "cell_type": "markdown",
   "metadata": {
    "id": "SP54Jt4h05oB"
   },
   "source": []
  },
  {
   "cell_type": "code",
   "execution_count": null,
   "metadata": {
    "colab": {
     "base_uri": "https://localhost:8080/"
    },
    "id": "K4jRK21h1mLd",
    "outputId": "6795e093-f51b-40cf-8881-abff055e4660"
   },
   "outputs": [
    {
     "data": {
      "text/plain": [
       "514.5600000000001"
      ]
     },
     "execution_count": 10,
     "metadata": {},
     "output_type": "execute_result"
    }
   ],
   "source": [
    "768*0.67"
   ]
  },
  {
   "cell_type": "code",
   "execution_count": null,
   "metadata": {
    "colab": {
     "base_uri": "https://localhost:8080/"
    },
    "id": "vTEaXcpViOeB",
    "outputId": "0d492b16-0cbd-44ea-f257-cff109c140a8"
   },
   "outputs": [
    {
     "name": "stdout",
     "output_type": "stream",
     "text": [
      "Epoch 1/250\n",
      "52/52 [==============================] - 1s 6ms/step - loss: 2.8576 - accuracy: 0.3716 - val_loss: 1.5686 - val_accuracy: 0.3937\n",
      "Epoch 2/250\n",
      "52/52 [==============================] - 0s 3ms/step - loss: 1.3715 - accuracy: 0.4844 - val_loss: 1.2481 - val_accuracy: 0.4724\n",
      "Epoch 3/250\n",
      "52/52 [==============================] - 0s 3ms/step - loss: 1.0619 - accuracy: 0.5525 - val_loss: 1.0143 - val_accuracy: 0.5591\n",
      "Epoch 4/250\n",
      "52/52 [==============================] - 0s 3ms/step - loss: 0.9050 - accuracy: 0.5837 - val_loss: 0.8641 - val_accuracy: 0.5866\n",
      "Epoch 5/250\n",
      "52/52 [==============================] - 0s 3ms/step - loss: 0.8207 - accuracy: 0.6128 - val_loss: 0.8034 - val_accuracy: 0.6614\n",
      "Epoch 6/250\n",
      "52/52 [==============================] - 0s 3ms/step - loss: 0.7593 - accuracy: 0.6342 - val_loss: 0.7362 - val_accuracy: 0.6417\n",
      "Epoch 7/250\n",
      "52/52 [==============================] - 0s 3ms/step - loss: 0.7151 - accuracy: 0.6498 - val_loss: 0.7432 - val_accuracy: 0.6654\n",
      "Epoch 8/250\n",
      "52/52 [==============================] - 0s 3ms/step - loss: 0.6932 - accuracy: 0.6381 - val_loss: 0.7033 - val_accuracy: 0.6535\n",
      "Epoch 9/250\n",
      "52/52 [==============================] - 0s 3ms/step - loss: 0.6822 - accuracy: 0.6615 - val_loss: 0.6917 - val_accuracy: 0.6654\n",
      "Epoch 10/250\n",
      "52/52 [==============================] - 0s 3ms/step - loss: 0.6642 - accuracy: 0.6595 - val_loss: 0.6946 - val_accuracy: 0.6654\n",
      "Epoch 11/250\n",
      "52/52 [==============================] - 0s 3ms/step - loss: 0.6581 - accuracy: 0.6673 - val_loss: 0.6816 - val_accuracy: 0.6929\n",
      "Epoch 12/250\n",
      "52/52 [==============================] - 0s 3ms/step - loss: 0.6405 - accuracy: 0.6732 - val_loss: 0.6844 - val_accuracy: 0.6614\n",
      "Epoch 13/250\n",
      "52/52 [==============================] - 0s 3ms/step - loss: 0.6341 - accuracy: 0.6634 - val_loss: 0.6849 - val_accuracy: 0.6969\n",
      "Epoch 14/250\n",
      "52/52 [==============================] - 0s 3ms/step - loss: 0.6352 - accuracy: 0.6634 - val_loss: 0.6727 - val_accuracy: 0.6811\n",
      "Epoch 15/250\n",
      "52/52 [==============================] - 0s 3ms/step - loss: 0.6198 - accuracy: 0.6907 - val_loss: 0.6742 - val_accuracy: 0.6929\n",
      "Epoch 16/250\n",
      "52/52 [==============================] - 0s 3ms/step - loss: 0.6307 - accuracy: 0.6790 - val_loss: 0.6487 - val_accuracy: 0.6772\n",
      "Epoch 17/250\n",
      "52/52 [==============================] - 0s 3ms/step - loss: 0.6160 - accuracy: 0.6848 - val_loss: 0.6640 - val_accuracy: 0.6772\n",
      "Epoch 18/250\n",
      "52/52 [==============================] - 0s 3ms/step - loss: 0.6167 - accuracy: 0.6907 - val_loss: 0.6722 - val_accuracy: 0.6575\n",
      "Epoch 19/250\n",
      "52/52 [==============================] - 0s 3ms/step - loss: 0.6103 - accuracy: 0.6907 - val_loss: 0.6585 - val_accuracy: 0.6850\n",
      "Epoch 20/250\n",
      "52/52 [==============================] - 0s 4ms/step - loss: 0.6165 - accuracy: 0.6848 - val_loss: 0.6517 - val_accuracy: 0.6772\n",
      "Epoch 21/250\n",
      "52/52 [==============================] - 0s 3ms/step - loss: 0.6147 - accuracy: 0.6887 - val_loss: 0.6470 - val_accuracy: 0.6732\n",
      "Epoch 22/250\n",
      "52/52 [==============================] - 0s 3ms/step - loss: 0.6048 - accuracy: 0.6984 - val_loss: 0.6545 - val_accuracy: 0.6850\n",
      "Epoch 23/250\n",
      "52/52 [==============================] - 0s 3ms/step - loss: 0.6040 - accuracy: 0.6887 - val_loss: 0.6448 - val_accuracy: 0.6772\n",
      "Epoch 24/250\n",
      "52/52 [==============================] - 0s 3ms/step - loss: 0.5950 - accuracy: 0.6984 - val_loss: 0.6678 - val_accuracy: 0.6732\n",
      "Epoch 25/250\n",
      "52/52 [==============================] - 0s 3ms/step - loss: 0.6021 - accuracy: 0.6965 - val_loss: 0.6602 - val_accuracy: 0.6732\n",
      "Epoch 26/250\n",
      "52/52 [==============================] - 0s 4ms/step - loss: 0.5829 - accuracy: 0.7101 - val_loss: 0.6949 - val_accuracy: 0.6890\n",
      "Epoch 27/250\n",
      "52/52 [==============================] - 1s 10ms/step - loss: 0.5991 - accuracy: 0.6946 - val_loss: 0.6701 - val_accuracy: 0.6732\n",
      "Epoch 28/250\n",
      "52/52 [==============================] - 0s 4ms/step - loss: 0.6105 - accuracy: 0.6926 - val_loss: 0.6733 - val_accuracy: 0.6457\n",
      "Epoch 29/250\n",
      "52/52 [==============================] - 0s 3ms/step - loss: 0.5966 - accuracy: 0.7023 - val_loss: 0.6747 - val_accuracy: 0.6457\n",
      "Epoch 30/250\n",
      "52/52 [==============================] - 0s 3ms/step - loss: 0.5866 - accuracy: 0.7140 - val_loss: 0.6502 - val_accuracy: 0.6811\n",
      "Epoch 31/250\n",
      "52/52 [==============================] - 0s 8ms/step - loss: 0.5894 - accuracy: 0.6965 - val_loss: 0.6445 - val_accuracy: 0.6929\n",
      "Epoch 32/250\n",
      "52/52 [==============================] - 0s 5ms/step - loss: 0.5800 - accuracy: 0.7140 - val_loss: 0.6544 - val_accuracy: 0.6732\n",
      "Epoch 33/250\n",
      "52/52 [==============================] - 0s 3ms/step - loss: 0.5861 - accuracy: 0.7043 - val_loss: 0.6483 - val_accuracy: 0.6732\n",
      "Epoch 34/250\n",
      "52/52 [==============================] - 0s 3ms/step - loss: 0.5741 - accuracy: 0.7198 - val_loss: 0.6581 - val_accuracy: 0.6693\n",
      "Epoch 35/250\n",
      "52/52 [==============================] - 0s 3ms/step - loss: 0.5837 - accuracy: 0.6984 - val_loss: 0.6561 - val_accuracy: 0.6693\n",
      "Epoch 36/250\n",
      "52/52 [==============================] - 0s 3ms/step - loss: 0.5789 - accuracy: 0.7004 - val_loss: 0.6715 - val_accuracy: 0.6417\n",
      "Epoch 37/250\n",
      "52/52 [==============================] - 0s 3ms/step - loss: 0.5873 - accuracy: 0.7062 - val_loss: 0.6585 - val_accuracy: 0.6575\n",
      "Epoch 38/250\n",
      "52/52 [==============================] - 0s 3ms/step - loss: 0.5676 - accuracy: 0.7082 - val_loss: 0.6567 - val_accuracy: 0.6811\n",
      "Epoch 39/250\n",
      "52/52 [==============================] - 0s 3ms/step - loss: 0.5712 - accuracy: 0.7101 - val_loss: 0.6412 - val_accuracy: 0.6772\n",
      "Epoch 40/250\n",
      "52/52 [==============================] - 0s 3ms/step - loss: 0.5802 - accuracy: 0.6907 - val_loss: 0.6544 - val_accuracy: 0.6693\n",
      "Epoch 41/250\n",
      "52/52 [==============================] - 0s 3ms/step - loss: 0.5681 - accuracy: 0.7218 - val_loss: 0.6323 - val_accuracy: 0.6654\n",
      "Epoch 42/250\n",
      "52/52 [==============================] - 0s 3ms/step - loss: 0.5697 - accuracy: 0.7218 - val_loss: 0.6401 - val_accuracy: 0.6693\n",
      "Epoch 43/250\n",
      "52/52 [==============================] - 0s 3ms/step - loss: 0.5658 - accuracy: 0.7043 - val_loss: 0.6464 - val_accuracy: 0.6732\n",
      "Epoch 44/250\n",
      "52/52 [==============================] - 0s 3ms/step - loss: 0.5847 - accuracy: 0.7101 - val_loss: 0.6611 - val_accuracy: 0.6457\n",
      "Epoch 45/250\n",
      "52/52 [==============================] - 0s 3ms/step - loss: 0.5664 - accuracy: 0.7160 - val_loss: 0.6388 - val_accuracy: 0.6654\n",
      "Epoch 46/250\n",
      "52/52 [==============================] - 0s 3ms/step - loss: 0.5669 - accuracy: 0.7179 - val_loss: 0.6432 - val_accuracy: 0.6693\n",
      "Epoch 47/250\n",
      "52/52 [==============================] - 0s 3ms/step - loss: 0.5640 - accuracy: 0.7062 - val_loss: 0.6375 - val_accuracy: 0.6732\n",
      "Epoch 48/250\n",
      "52/52 [==============================] - 0s 3ms/step - loss: 0.5582 - accuracy: 0.7257 - val_loss: 0.6526 - val_accuracy: 0.6299\n",
      "Epoch 49/250\n",
      "52/52 [==============================] - 0s 3ms/step - loss: 0.5737 - accuracy: 0.7004 - val_loss: 0.6333 - val_accuracy: 0.6772\n",
      "Epoch 50/250\n",
      "52/52 [==============================] - 0s 3ms/step - loss: 0.5638 - accuracy: 0.7218 - val_loss: 0.6222 - val_accuracy: 0.6693\n",
      "Epoch 51/250\n",
      "52/52 [==============================] - 0s 3ms/step - loss: 0.5641 - accuracy: 0.7257 - val_loss: 0.6283 - val_accuracy: 0.6850\n",
      "Epoch 52/250\n",
      "52/52 [==============================] - 0s 3ms/step - loss: 0.5697 - accuracy: 0.7198 - val_loss: 0.6325 - val_accuracy: 0.6772\n",
      "Epoch 53/250\n",
      "52/52 [==============================] - 0s 3ms/step - loss: 0.5598 - accuracy: 0.7257 - val_loss: 0.6262 - val_accuracy: 0.6772\n",
      "Epoch 54/250\n",
      "52/52 [==============================] - 0s 3ms/step - loss: 0.5619 - accuracy: 0.7140 - val_loss: 0.6360 - val_accuracy: 0.6772\n",
      "Epoch 55/250\n",
      "52/52 [==============================] - 0s 3ms/step - loss: 0.5570 - accuracy: 0.7218 - val_loss: 0.6423 - val_accuracy: 0.6614\n",
      "Epoch 56/250\n",
      "52/52 [==============================] - 0s 3ms/step - loss: 0.5702 - accuracy: 0.7198 - val_loss: 0.6317 - val_accuracy: 0.6811\n",
      "Epoch 57/250\n",
      "52/52 [==============================] - 0s 3ms/step - loss: 0.5572 - accuracy: 0.7393 - val_loss: 0.6334 - val_accuracy: 0.6811\n",
      "Epoch 58/250\n",
      "52/52 [==============================] - 0s 3ms/step - loss: 0.5571 - accuracy: 0.7179 - val_loss: 0.6487 - val_accuracy: 0.6850\n",
      "Epoch 59/250\n",
      "52/52 [==============================] - 0s 3ms/step - loss: 0.5551 - accuracy: 0.7179 - val_loss: 0.6257 - val_accuracy: 0.6890\n",
      "Epoch 60/250\n",
      "52/52 [==============================] - 0s 3ms/step - loss: 0.5473 - accuracy: 0.7237 - val_loss: 0.6445 - val_accuracy: 0.6811\n",
      "Epoch 61/250\n",
      "52/52 [==============================] - 0s 3ms/step - loss: 0.5530 - accuracy: 0.7374 - val_loss: 0.6388 - val_accuracy: 0.6772\n",
      "Epoch 62/250\n",
      "52/52 [==============================] - 0s 3ms/step - loss: 0.5599 - accuracy: 0.7451 - val_loss: 0.6505 - val_accuracy: 0.6732\n",
      "Epoch 63/250\n",
      "52/52 [==============================] - 0s 3ms/step - loss: 0.5592 - accuracy: 0.7198 - val_loss: 0.6310 - val_accuracy: 0.6732\n",
      "Epoch 64/250\n",
      "52/52 [==============================] - 0s 3ms/step - loss: 0.5455 - accuracy: 0.7237 - val_loss: 0.6358 - val_accuracy: 0.6693\n",
      "Epoch 65/250\n",
      "52/52 [==============================] - 0s 3ms/step - loss: 0.5589 - accuracy: 0.7296 - val_loss: 0.6393 - val_accuracy: 0.6772\n",
      "Epoch 66/250\n",
      "52/52 [==============================] - 0s 3ms/step - loss: 0.5474 - accuracy: 0.7315 - val_loss: 0.6427 - val_accuracy: 0.6732\n",
      "Epoch 67/250\n",
      "52/52 [==============================] - 0s 3ms/step - loss: 0.5549 - accuracy: 0.7315 - val_loss: 0.6301 - val_accuracy: 0.6654\n",
      "Epoch 68/250\n",
      "52/52 [==============================] - 0s 3ms/step - loss: 0.5504 - accuracy: 0.7237 - val_loss: 0.6134 - val_accuracy: 0.6890\n",
      "Epoch 69/250\n",
      "52/52 [==============================] - 0s 2ms/step - loss: 0.5507 - accuracy: 0.7335 - val_loss: 0.6269 - val_accuracy: 0.6772\n",
      "Epoch 70/250\n",
      "52/52 [==============================] - 0s 3ms/step - loss: 0.5452 - accuracy: 0.7160 - val_loss: 0.6375 - val_accuracy: 0.6890\n",
      "Epoch 71/250\n",
      "52/52 [==============================] - 0s 3ms/step - loss: 0.5452 - accuracy: 0.7257 - val_loss: 0.6198 - val_accuracy: 0.6772\n",
      "Epoch 72/250\n",
      "52/52 [==============================] - 0s 3ms/step - loss: 0.5469 - accuracy: 0.7335 - val_loss: 0.6342 - val_accuracy: 0.6929\n",
      "Epoch 73/250\n",
      "52/52 [==============================] - 0s 3ms/step - loss: 0.5490 - accuracy: 0.7257 - val_loss: 0.6319 - val_accuracy: 0.6693\n",
      "Epoch 74/250\n",
      "52/52 [==============================] - 0s 3ms/step - loss: 0.5375 - accuracy: 0.7315 - val_loss: 0.6312 - val_accuracy: 0.7008\n",
      "Epoch 75/250\n",
      "52/52 [==============================] - 0s 3ms/step - loss: 0.5405 - accuracy: 0.7315 - val_loss: 0.6291 - val_accuracy: 0.6969\n",
      "Epoch 76/250\n",
      "52/52 [==============================] - 0s 3ms/step - loss: 0.5453 - accuracy: 0.7198 - val_loss: 0.6509 - val_accuracy: 0.6929\n",
      "Epoch 77/250\n",
      "52/52 [==============================] - 0s 3ms/step - loss: 0.5536 - accuracy: 0.7237 - val_loss: 0.6306 - val_accuracy: 0.6732\n",
      "Epoch 78/250\n",
      "52/52 [==============================] - 0s 3ms/step - loss: 0.5370 - accuracy: 0.7393 - val_loss: 0.6311 - val_accuracy: 0.6850\n",
      "Epoch 79/250\n",
      "52/52 [==============================] - 0s 3ms/step - loss: 0.5501 - accuracy: 0.7257 - val_loss: 0.6277 - val_accuracy: 0.6929\n",
      "Epoch 80/250\n",
      "52/52 [==============================] - 0s 2ms/step - loss: 0.5371 - accuracy: 0.7393 - val_loss: 0.6366 - val_accuracy: 0.6772\n",
      "Epoch 81/250\n",
      "52/52 [==============================] - 0s 3ms/step - loss: 0.5455 - accuracy: 0.7179 - val_loss: 0.6383 - val_accuracy: 0.6693\n",
      "Epoch 82/250\n",
      "52/52 [==============================] - 0s 3ms/step - loss: 0.5455 - accuracy: 0.7237 - val_loss: 0.6398 - val_accuracy: 0.6693\n",
      "Epoch 83/250\n",
      "52/52 [==============================] - 0s 3ms/step - loss: 0.5407 - accuracy: 0.7335 - val_loss: 0.6215 - val_accuracy: 0.6890\n",
      "Epoch 84/250\n",
      "52/52 [==============================] - 0s 3ms/step - loss: 0.5406 - accuracy: 0.7374 - val_loss: 0.6351 - val_accuracy: 0.6969\n",
      "Epoch 85/250\n",
      "52/52 [==============================] - 0s 3ms/step - loss: 0.5416 - accuracy: 0.7315 - val_loss: 0.6628 - val_accuracy: 0.6850\n",
      "Epoch 86/250\n",
      "52/52 [==============================] - 0s 3ms/step - loss: 0.5333 - accuracy: 0.7451 - val_loss: 0.6186 - val_accuracy: 0.6811\n",
      "Epoch 87/250\n",
      "52/52 [==============================] - 0s 3ms/step - loss: 0.5469 - accuracy: 0.7374 - val_loss: 0.6293 - val_accuracy: 0.6850\n",
      "Epoch 88/250\n",
      "52/52 [==============================] - 0s 3ms/step - loss: 0.5575 - accuracy: 0.7257 - val_loss: 0.6342 - val_accuracy: 0.6693\n",
      "Epoch 89/250\n",
      "52/52 [==============================] - 0s 3ms/step - loss: 0.5361 - accuracy: 0.7354 - val_loss: 0.6306 - val_accuracy: 0.6890\n",
      "Epoch 90/250\n",
      "52/52 [==============================] - 0s 3ms/step - loss: 0.5300 - accuracy: 0.7335 - val_loss: 0.6284 - val_accuracy: 0.6969\n",
      "Epoch 91/250\n",
      "52/52 [==============================] - 0s 3ms/step - loss: 0.5444 - accuracy: 0.7412 - val_loss: 0.6238 - val_accuracy: 0.6811\n",
      "Epoch 92/250\n",
      "52/52 [==============================] - 0s 2ms/step - loss: 0.5294 - accuracy: 0.7471 - val_loss: 0.6531 - val_accuracy: 0.6772\n",
      "Epoch 93/250\n",
      "52/52 [==============================] - 0s 3ms/step - loss: 0.5414 - accuracy: 0.7374 - val_loss: 0.6133 - val_accuracy: 0.6772\n",
      "Epoch 94/250\n",
      "52/52 [==============================] - 0s 3ms/step - loss: 0.5348 - accuracy: 0.7315 - val_loss: 0.6210 - val_accuracy: 0.7008\n",
      "Epoch 95/250\n",
      "52/52 [==============================] - 0s 3ms/step - loss: 0.5392 - accuracy: 0.7276 - val_loss: 0.6224 - val_accuracy: 0.7087\n",
      "Epoch 96/250\n",
      "52/52 [==============================] - 0s 3ms/step - loss: 0.5280 - accuracy: 0.7374 - val_loss: 0.6319 - val_accuracy: 0.6969\n",
      "Epoch 97/250\n",
      "52/52 [==============================] - 0s 3ms/step - loss: 0.5387 - accuracy: 0.7412 - val_loss: 0.6748 - val_accuracy: 0.6890\n",
      "Epoch 98/250\n",
      "52/52 [==============================] - 0s 3ms/step - loss: 0.5331 - accuracy: 0.7451 - val_loss: 0.6182 - val_accuracy: 0.6772\n",
      "Epoch 99/250\n",
      "52/52 [==============================] - 0s 3ms/step - loss: 0.5359 - accuracy: 0.7315 - val_loss: 0.6251 - val_accuracy: 0.6890\n",
      "Epoch 100/250\n",
      "52/52 [==============================] - 0s 3ms/step - loss: 0.5310 - accuracy: 0.7432 - val_loss: 0.6240 - val_accuracy: 0.7008\n",
      "Epoch 101/250\n",
      "52/52 [==============================] - 0s 3ms/step - loss: 0.5402 - accuracy: 0.7432 - val_loss: 0.6453 - val_accuracy: 0.6693\n",
      "Epoch 102/250\n",
      "52/52 [==============================] - 0s 3ms/step - loss: 0.5352 - accuracy: 0.7237 - val_loss: 0.6373 - val_accuracy: 0.6929\n",
      "Epoch 103/250\n",
      "52/52 [==============================] - 0s 4ms/step - loss: 0.5310 - accuracy: 0.7296 - val_loss: 0.6469 - val_accuracy: 0.6850\n",
      "Epoch 104/250\n",
      "52/52 [==============================] - 0s 3ms/step - loss: 0.5380 - accuracy: 0.7296 - val_loss: 0.6294 - val_accuracy: 0.6850\n",
      "Epoch 105/250\n",
      "52/52 [==============================] - 0s 3ms/step - loss: 0.5293 - accuracy: 0.7315 - val_loss: 0.6313 - val_accuracy: 0.6693\n",
      "Epoch 106/250\n",
      "52/52 [==============================] - 0s 3ms/step - loss: 0.5365 - accuracy: 0.7198 - val_loss: 0.6500 - val_accuracy: 0.6929\n",
      "Epoch 107/250\n",
      "52/52 [==============================] - 0s 3ms/step - loss: 0.5275 - accuracy: 0.7354 - val_loss: 0.6419 - val_accuracy: 0.6929\n",
      "Epoch 108/250\n",
      "52/52 [==============================] - 0s 3ms/step - loss: 0.5351 - accuracy: 0.7374 - val_loss: 0.6228 - val_accuracy: 0.6890\n",
      "Epoch 109/250\n",
      "52/52 [==============================] - 0s 2ms/step - loss: 0.5241 - accuracy: 0.7335 - val_loss: 0.6342 - val_accuracy: 0.6890\n",
      "Epoch 110/250\n",
      "52/52 [==============================] - 0s 3ms/step - loss: 0.5280 - accuracy: 0.7490 - val_loss: 0.6452 - val_accuracy: 0.6969\n",
      "Epoch 111/250\n",
      "52/52 [==============================] - 0s 3ms/step - loss: 0.5284 - accuracy: 0.7335 - val_loss: 0.6349 - val_accuracy: 0.6850\n",
      "Epoch 112/250\n",
      "52/52 [==============================] - 0s 2ms/step - loss: 0.5244 - accuracy: 0.7374 - val_loss: 0.6333 - val_accuracy: 0.6850\n",
      "Epoch 113/250\n",
      "52/52 [==============================] - 0s 3ms/step - loss: 0.5242 - accuracy: 0.7198 - val_loss: 0.6362 - val_accuracy: 0.6654\n",
      "Epoch 114/250\n",
      "52/52 [==============================] - 0s 3ms/step - loss: 0.5306 - accuracy: 0.7412 - val_loss: 0.6510 - val_accuracy: 0.6811\n",
      "Epoch 115/250\n",
      "52/52 [==============================] - 0s 3ms/step - loss: 0.5410 - accuracy: 0.7315 - val_loss: 0.6456 - val_accuracy: 0.6929\n",
      "Epoch 116/250\n",
      "52/52 [==============================] - 0s 3ms/step - loss: 0.5371 - accuracy: 0.7510 - val_loss: 0.6703 - val_accuracy: 0.6535\n",
      "Epoch 117/250\n",
      "52/52 [==============================] - 0s 3ms/step - loss: 0.5256 - accuracy: 0.7374 - val_loss: 0.6157 - val_accuracy: 0.6890\n",
      "Epoch 118/250\n",
      "52/52 [==============================] - 0s 3ms/step - loss: 0.5258 - accuracy: 0.7374 - val_loss: 0.6294 - val_accuracy: 0.6929\n",
      "Epoch 119/250\n",
      "52/52 [==============================] - 0s 3ms/step - loss: 0.5402 - accuracy: 0.7335 - val_loss: 0.6340 - val_accuracy: 0.6850\n",
      "Epoch 120/250\n",
      "52/52 [==============================] - 0s 3ms/step - loss: 0.5278 - accuracy: 0.7432 - val_loss: 0.6598 - val_accuracy: 0.6614\n",
      "Epoch 121/250\n",
      "52/52 [==============================] - 0s 3ms/step - loss: 0.5342 - accuracy: 0.7354 - val_loss: 0.6338 - val_accuracy: 0.7008\n",
      "Epoch 122/250\n",
      "52/52 [==============================] - 0s 3ms/step - loss: 0.5185 - accuracy: 0.7412 - val_loss: 0.6319 - val_accuracy: 0.6772\n",
      "Epoch 123/250\n",
      "52/52 [==============================] - 0s 3ms/step - loss: 0.5276 - accuracy: 0.7393 - val_loss: 0.6587 - val_accuracy: 0.6654\n",
      "Epoch 124/250\n",
      "52/52 [==============================] - 0s 3ms/step - loss: 0.5230 - accuracy: 0.7510 - val_loss: 0.6348 - val_accuracy: 0.6929\n",
      "Epoch 125/250\n",
      "52/52 [==============================] - 0s 3ms/step - loss: 0.5185 - accuracy: 0.7374 - val_loss: 0.6308 - val_accuracy: 0.6969\n",
      "Epoch 126/250\n",
      "52/52 [==============================] - 0s 3ms/step - loss: 0.5226 - accuracy: 0.7393 - val_loss: 0.6298 - val_accuracy: 0.6654\n",
      "Epoch 127/250\n",
      "52/52 [==============================] - 0s 3ms/step - loss: 0.5330 - accuracy: 0.7276 - val_loss: 0.6169 - val_accuracy: 0.7008\n",
      "Epoch 128/250\n",
      "52/52 [==============================] - 0s 3ms/step - loss: 0.5279 - accuracy: 0.7529 - val_loss: 0.6452 - val_accuracy: 0.6969\n",
      "Epoch 129/250\n",
      "52/52 [==============================] - 0s 2ms/step - loss: 0.5246 - accuracy: 0.7490 - val_loss: 0.6345 - val_accuracy: 0.6929\n",
      "Epoch 130/250\n",
      "52/52 [==============================] - 0s 3ms/step - loss: 0.5171 - accuracy: 0.7432 - val_loss: 0.6333 - val_accuracy: 0.6850\n",
      "Epoch 131/250\n",
      "52/52 [==============================] - 0s 3ms/step - loss: 0.5170 - accuracy: 0.7471 - val_loss: 0.6452 - val_accuracy: 0.6969\n",
      "Epoch 132/250\n",
      "52/52 [==============================] - 0s 3ms/step - loss: 0.5375 - accuracy: 0.7237 - val_loss: 0.6680 - val_accuracy: 0.6929\n",
      "Epoch 133/250\n",
      "52/52 [==============================] - 0s 3ms/step - loss: 0.5223 - accuracy: 0.7354 - val_loss: 0.6391 - val_accuracy: 0.6890\n",
      "Epoch 134/250\n",
      "52/52 [==============================] - 0s 3ms/step - loss: 0.5230 - accuracy: 0.7354 - val_loss: 0.6479 - val_accuracy: 0.6929\n",
      "Epoch 135/250\n",
      "52/52 [==============================] - 0s 3ms/step - loss: 0.5172 - accuracy: 0.7432 - val_loss: 0.6576 - val_accuracy: 0.6890\n",
      "Epoch 136/250\n",
      "52/52 [==============================] - 0s 3ms/step - loss: 0.5231 - accuracy: 0.7412 - val_loss: 0.6653 - val_accuracy: 0.6575\n",
      "Epoch 137/250\n",
      "52/52 [==============================] - 0s 3ms/step - loss: 0.5294 - accuracy: 0.7451 - val_loss: 0.6434 - val_accuracy: 0.6850\n",
      "Epoch 138/250\n",
      "52/52 [==============================] - 0s 3ms/step - loss: 0.5126 - accuracy: 0.7490 - val_loss: 0.6340 - val_accuracy: 0.7008\n",
      "Epoch 139/250\n",
      "52/52 [==============================] - 0s 3ms/step - loss: 0.5284 - accuracy: 0.7354 - val_loss: 0.6362 - val_accuracy: 0.6969\n",
      "Epoch 140/250\n",
      "52/52 [==============================] - 0s 3ms/step - loss: 0.5223 - accuracy: 0.7315 - val_loss: 0.6712 - val_accuracy: 0.6929\n",
      "Epoch 141/250\n",
      "52/52 [==============================] - 0s 3ms/step - loss: 0.5187 - accuracy: 0.7412 - val_loss: 0.6421 - val_accuracy: 0.7047\n",
      "Epoch 142/250\n",
      "52/52 [==============================] - 0s 3ms/step - loss: 0.5190 - accuracy: 0.7354 - val_loss: 0.6306 - val_accuracy: 0.6811\n",
      "Epoch 143/250\n",
      "52/52 [==============================] - 0s 3ms/step - loss: 0.5139 - accuracy: 0.7451 - val_loss: 0.6310 - val_accuracy: 0.6890\n",
      "Epoch 144/250\n",
      "52/52 [==============================] - 0s 3ms/step - loss: 0.5184 - accuracy: 0.7198 - val_loss: 0.6539 - val_accuracy: 0.6850\n",
      "Epoch 145/250\n",
      "52/52 [==============================] - 0s 3ms/step - loss: 0.5374 - accuracy: 0.7179 - val_loss: 0.6537 - val_accuracy: 0.6969\n",
      "Epoch 146/250\n",
      "52/52 [==============================] - 0s 3ms/step - loss: 0.5318 - accuracy: 0.7315 - val_loss: 0.6562 - val_accuracy: 0.6890\n",
      "Epoch 147/250\n",
      "52/52 [==============================] - 0s 3ms/step - loss: 0.5176 - accuracy: 0.7393 - val_loss: 0.6434 - val_accuracy: 0.6929\n",
      "Epoch 148/250\n",
      "52/52 [==============================] - 0s 3ms/step - loss: 0.5100 - accuracy: 0.7374 - val_loss: 0.6306 - val_accuracy: 0.6929\n",
      "Epoch 149/250\n",
      "52/52 [==============================] - 0s 3ms/step - loss: 0.5112 - accuracy: 0.7451 - val_loss: 0.6458 - val_accuracy: 0.6969\n",
      "Epoch 150/250\n",
      "52/52 [==============================] - 0s 3ms/step - loss: 0.5112 - accuracy: 0.7549 - val_loss: 0.6413 - val_accuracy: 0.7008\n",
      "Epoch 151/250\n",
      "52/52 [==============================] - 0s 3ms/step - loss: 0.5170 - accuracy: 0.7374 - val_loss: 0.6288 - val_accuracy: 0.7008\n",
      "Epoch 152/250\n",
      "52/52 [==============================] - 0s 4ms/step - loss: 0.5103 - accuracy: 0.7471 - val_loss: 0.6431 - val_accuracy: 0.6969\n",
      "Epoch 153/250\n",
      "52/52 [==============================] - 0s 3ms/step - loss: 0.5148 - accuracy: 0.7451 - val_loss: 0.6407 - val_accuracy: 0.7008\n",
      "Epoch 154/250\n",
      "52/52 [==============================] - 0s 3ms/step - loss: 0.5129 - accuracy: 0.7451 - val_loss: 0.6349 - val_accuracy: 0.6969\n",
      "Epoch 155/250\n",
      "52/52 [==============================] - 0s 3ms/step - loss: 0.5131 - accuracy: 0.7432 - val_loss: 0.6313 - val_accuracy: 0.6850\n",
      "Epoch 156/250\n",
      "52/52 [==============================] - 0s 3ms/step - loss: 0.5099 - accuracy: 0.7393 - val_loss: 0.6499 - val_accuracy: 0.6693\n",
      "Epoch 157/250\n",
      "52/52 [==============================] - 0s 3ms/step - loss: 0.5153 - accuracy: 0.7432 - val_loss: 0.6461 - val_accuracy: 0.6811\n",
      "Epoch 158/250\n",
      "52/52 [==============================] - 0s 3ms/step - loss: 0.5091 - accuracy: 0.7374 - val_loss: 0.6454 - val_accuracy: 0.7087\n",
      "Epoch 159/250\n",
      "52/52 [==============================] - 0s 3ms/step - loss: 0.5112 - accuracy: 0.7471 - val_loss: 0.6348 - val_accuracy: 0.6969\n",
      "Epoch 160/250\n",
      "52/52 [==============================] - 0s 3ms/step - loss: 0.5036 - accuracy: 0.7432 - val_loss: 0.6220 - val_accuracy: 0.7008\n",
      "Epoch 161/250\n",
      "52/52 [==============================] - 0s 3ms/step - loss: 0.5121 - accuracy: 0.7588 - val_loss: 0.6455 - val_accuracy: 0.6969\n",
      "Epoch 162/250\n",
      "52/52 [==============================] - 0s 3ms/step - loss: 0.5085 - accuracy: 0.7549 - val_loss: 0.6583 - val_accuracy: 0.6890\n",
      "Epoch 163/250\n",
      "52/52 [==============================] - 0s 3ms/step - loss: 0.5086 - accuracy: 0.7432 - val_loss: 0.6284 - val_accuracy: 0.6969\n",
      "Epoch 164/250\n",
      "52/52 [==============================] - 0s 3ms/step - loss: 0.5124 - accuracy: 0.7549 - val_loss: 0.6436 - val_accuracy: 0.7047\n",
      "Epoch 165/250\n",
      "52/52 [==============================] - 0s 3ms/step - loss: 0.5188 - accuracy: 0.7685 - val_loss: 0.6473 - val_accuracy: 0.6929\n",
      "Epoch 166/250\n",
      "52/52 [==============================] - 0s 3ms/step - loss: 0.5129 - accuracy: 0.7374 - val_loss: 0.6511 - val_accuracy: 0.6850\n",
      "Epoch 167/250\n",
      "52/52 [==============================] - 0s 4ms/step - loss: 0.5053 - accuracy: 0.7412 - val_loss: 0.6441 - val_accuracy: 0.7008\n",
      "Epoch 168/250\n",
      "52/52 [==============================] - 0s 3ms/step - loss: 0.5118 - accuracy: 0.7412 - val_loss: 0.6621 - val_accuracy: 0.6890\n",
      "Epoch 169/250\n",
      "52/52 [==============================] - 0s 2ms/step - loss: 0.5079 - accuracy: 0.7315 - val_loss: 0.6396 - val_accuracy: 0.6850\n",
      "Epoch 170/250\n",
      "52/52 [==============================] - 0s 3ms/step - loss: 0.5146 - accuracy: 0.7432 - val_loss: 0.6568 - val_accuracy: 0.6929\n",
      "Epoch 171/250\n",
      "52/52 [==============================] - 0s 3ms/step - loss: 0.5123 - accuracy: 0.7432 - val_loss: 0.6444 - val_accuracy: 0.7047\n",
      "Epoch 172/250\n",
      "52/52 [==============================] - 0s 3ms/step - loss: 0.5090 - accuracy: 0.7471 - val_loss: 0.6308 - val_accuracy: 0.7126\n",
      "Epoch 173/250\n",
      "52/52 [==============================] - 0s 3ms/step - loss: 0.5214 - accuracy: 0.7451 - val_loss: 0.6371 - val_accuracy: 0.7047\n",
      "Epoch 174/250\n",
      "52/52 [==============================] - 0s 3ms/step - loss: 0.5020 - accuracy: 0.7568 - val_loss: 0.6320 - val_accuracy: 0.7008\n",
      "Epoch 175/250\n",
      "52/52 [==============================] - 0s 3ms/step - loss: 0.5026 - accuracy: 0.7490 - val_loss: 0.6425 - val_accuracy: 0.7087\n",
      "Epoch 176/250\n",
      "52/52 [==============================] - 0s 3ms/step - loss: 0.5042 - accuracy: 0.7529 - val_loss: 0.6381 - val_accuracy: 0.6772\n",
      "Epoch 177/250\n",
      "52/52 [==============================] - 0s 3ms/step - loss: 0.5015 - accuracy: 0.7510 - val_loss: 0.6345 - val_accuracy: 0.6929\n",
      "Epoch 178/250\n",
      "52/52 [==============================] - 0s 3ms/step - loss: 0.5082 - accuracy: 0.7393 - val_loss: 0.6344 - val_accuracy: 0.7008\n",
      "Epoch 179/250\n",
      "52/52 [==============================] - 0s 3ms/step - loss: 0.5037 - accuracy: 0.7490 - val_loss: 0.6453 - val_accuracy: 0.7008\n",
      "Epoch 180/250\n",
      "52/52 [==============================] - 0s 3ms/step - loss: 0.5181 - accuracy: 0.7315 - val_loss: 0.6773 - val_accuracy: 0.7008\n",
      "Epoch 181/250\n",
      "52/52 [==============================] - 0s 3ms/step - loss: 0.5050 - accuracy: 0.7335 - val_loss: 0.6457 - val_accuracy: 0.6772\n",
      "Epoch 182/250\n",
      "52/52 [==============================] - 0s 3ms/step - loss: 0.5126 - accuracy: 0.7354 - val_loss: 0.6529 - val_accuracy: 0.6969\n",
      "Epoch 183/250\n",
      "52/52 [==============================] - 0s 3ms/step - loss: 0.5038 - accuracy: 0.7529 - val_loss: 0.6463 - val_accuracy: 0.6890\n",
      "Epoch 184/250\n",
      "52/52 [==============================] - 0s 3ms/step - loss: 0.5152 - accuracy: 0.7393 - val_loss: 0.6660 - val_accuracy: 0.7126\n",
      "Epoch 185/250\n",
      "52/52 [==============================] - 0s 3ms/step - loss: 0.5014 - accuracy: 0.7529 - val_loss: 0.6475 - val_accuracy: 0.6890\n",
      "Epoch 186/250\n",
      "52/52 [==============================] - 0s 3ms/step - loss: 0.5013 - accuracy: 0.7510 - val_loss: 0.6425 - val_accuracy: 0.7126\n",
      "Epoch 187/250\n",
      "52/52 [==============================] - 0s 3ms/step - loss: 0.4978 - accuracy: 0.7529 - val_loss: 0.6441 - val_accuracy: 0.6929\n",
      "Epoch 188/250\n",
      "52/52 [==============================] - 0s 3ms/step - loss: 0.5102 - accuracy: 0.7626 - val_loss: 0.6542 - val_accuracy: 0.7126\n",
      "Epoch 189/250\n",
      "52/52 [==============================] - 0s 4ms/step - loss: 0.4988 - accuracy: 0.7529 - val_loss: 0.6558 - val_accuracy: 0.7047\n",
      "Epoch 190/250\n",
      "52/52 [==============================] - 0s 3ms/step - loss: 0.4995 - accuracy: 0.7432 - val_loss: 0.6514 - val_accuracy: 0.6969\n",
      "Epoch 191/250\n",
      "52/52 [==============================] - 0s 3ms/step - loss: 0.5030 - accuracy: 0.7549 - val_loss: 0.6958 - val_accuracy: 0.6496\n",
      "Epoch 192/250\n",
      "52/52 [==============================] - 0s 3ms/step - loss: 0.5053 - accuracy: 0.7510 - val_loss: 0.6490 - val_accuracy: 0.6929\n",
      "Epoch 193/250\n",
      "52/52 [==============================] - 0s 3ms/step - loss: 0.5010 - accuracy: 0.7646 - val_loss: 0.6559 - val_accuracy: 0.7087\n",
      "Epoch 194/250\n",
      "52/52 [==============================] - 0s 3ms/step - loss: 0.5049 - accuracy: 0.7451 - val_loss: 0.6674 - val_accuracy: 0.6969\n",
      "Epoch 195/250\n",
      "52/52 [==============================] - 0s 3ms/step - loss: 0.5054 - accuracy: 0.7412 - val_loss: 0.6442 - val_accuracy: 0.6929\n",
      "Epoch 196/250\n",
      "52/52 [==============================] - 0s 3ms/step - loss: 0.4954 - accuracy: 0.7490 - val_loss: 0.6556 - val_accuracy: 0.6969\n",
      "Epoch 197/250\n",
      "52/52 [==============================] - 0s 3ms/step - loss: 0.4965 - accuracy: 0.7568 - val_loss: 0.6526 - val_accuracy: 0.7047\n",
      "Epoch 198/250\n",
      "52/52 [==============================] - 0s 3ms/step - loss: 0.5011 - accuracy: 0.7529 - val_loss: 0.6471 - val_accuracy: 0.6929\n",
      "Epoch 199/250\n",
      "52/52 [==============================] - 0s 3ms/step - loss: 0.4980 - accuracy: 0.7529 - val_loss: 0.6447 - val_accuracy: 0.7047\n",
      "Epoch 200/250\n",
      "52/52 [==============================] - 0s 3ms/step - loss: 0.4987 - accuracy: 0.7549 - val_loss: 0.6494 - val_accuracy: 0.6890\n",
      "Epoch 201/250\n",
      "52/52 [==============================] - 0s 3ms/step - loss: 0.5026 - accuracy: 0.7374 - val_loss: 0.6636 - val_accuracy: 0.7047\n",
      "Epoch 202/250\n",
      "52/52 [==============================] - 0s 3ms/step - loss: 0.4928 - accuracy: 0.7490 - val_loss: 0.6633 - val_accuracy: 0.7126\n",
      "Epoch 203/250\n",
      "52/52 [==============================] - 0s 3ms/step - loss: 0.5121 - accuracy: 0.7412 - val_loss: 0.6365 - val_accuracy: 0.7047\n",
      "Epoch 204/250\n",
      "52/52 [==============================] - 0s 3ms/step - loss: 0.4914 - accuracy: 0.7685 - val_loss: 0.6759 - val_accuracy: 0.6969\n",
      "Epoch 205/250\n",
      "52/52 [==============================] - 0s 2ms/step - loss: 0.4986 - accuracy: 0.7568 - val_loss: 0.6704 - val_accuracy: 0.6811\n",
      "Epoch 206/250\n",
      "52/52 [==============================] - 0s 2ms/step - loss: 0.4907 - accuracy: 0.7510 - val_loss: 0.6648 - val_accuracy: 0.7126\n",
      "Epoch 207/250\n",
      "52/52 [==============================] - 0s 3ms/step - loss: 0.5141 - accuracy: 0.7451 - val_loss: 0.6565 - val_accuracy: 0.6850\n",
      "Epoch 208/250\n",
      "52/52 [==============================] - 0s 3ms/step - loss: 0.4985 - accuracy: 0.7588 - val_loss: 0.6605 - val_accuracy: 0.7087\n",
      "Epoch 209/250\n",
      "52/52 [==============================] - 0s 3ms/step - loss: 0.5010 - accuracy: 0.7432 - val_loss: 0.6492 - val_accuracy: 0.7008\n",
      "Epoch 210/250\n",
      "52/52 [==============================] - 0s 3ms/step - loss: 0.4908 - accuracy: 0.7588 - val_loss: 0.6587 - val_accuracy: 0.7008\n",
      "Epoch 211/250\n",
      "52/52 [==============================] - 0s 3ms/step - loss: 0.4915 - accuracy: 0.7490 - val_loss: 0.6920 - val_accuracy: 0.6772\n",
      "Epoch 212/250\n",
      "52/52 [==============================] - 0s 3ms/step - loss: 0.4998 - accuracy: 0.7510 - val_loss: 0.6753 - val_accuracy: 0.7126\n",
      "Epoch 213/250\n",
      "52/52 [==============================] - 0s 3ms/step - loss: 0.5219 - accuracy: 0.7490 - val_loss: 0.6298 - val_accuracy: 0.7008\n",
      "Epoch 214/250\n",
      "52/52 [==============================] - 0s 3ms/step - loss: 0.4986 - accuracy: 0.7549 - val_loss: 0.6405 - val_accuracy: 0.7205\n",
      "Epoch 215/250\n",
      "52/52 [==============================] - 0s 3ms/step - loss: 0.4988 - accuracy: 0.7412 - val_loss: 0.6243 - val_accuracy: 0.7087\n",
      "Epoch 216/250\n",
      "52/52 [==============================] - 0s 3ms/step - loss: 0.5054 - accuracy: 0.7665 - val_loss: 0.6503 - val_accuracy: 0.7008\n",
      "Epoch 217/250\n",
      "52/52 [==============================] - 0s 3ms/step - loss: 0.4885 - accuracy: 0.7549 - val_loss: 0.6513 - val_accuracy: 0.7008\n",
      "Epoch 218/250\n",
      "52/52 [==============================] - 0s 3ms/step - loss: 0.4889 - accuracy: 0.7568 - val_loss: 0.6677 - val_accuracy: 0.7244\n",
      "Epoch 219/250\n",
      "52/52 [==============================] - 0s 3ms/step - loss: 0.5026 - accuracy: 0.7432 - val_loss: 0.6678 - val_accuracy: 0.7047\n",
      "Epoch 220/250\n",
      "52/52 [==============================] - 0s 3ms/step - loss: 0.4920 - accuracy: 0.7529 - val_loss: 0.6585 - val_accuracy: 0.6890\n",
      "Epoch 221/250\n",
      "52/52 [==============================] - 0s 3ms/step - loss: 0.4939 - accuracy: 0.7510 - val_loss: 0.6410 - val_accuracy: 0.7087\n",
      "Epoch 222/250\n",
      "52/52 [==============================] - 0s 3ms/step - loss: 0.4935 - accuracy: 0.7432 - val_loss: 0.6507 - val_accuracy: 0.7126\n",
      "Epoch 223/250\n",
      "52/52 [==============================] - 0s 3ms/step - loss: 0.4963 - accuracy: 0.7510 - val_loss: 0.6774 - val_accuracy: 0.6693\n",
      "Epoch 224/250\n",
      "52/52 [==============================] - 0s 3ms/step - loss: 0.4891 - accuracy: 0.7626 - val_loss: 0.6539 - val_accuracy: 0.7008\n",
      "Epoch 225/250\n",
      "52/52 [==============================] - 0s 3ms/step - loss: 0.4888 - accuracy: 0.7393 - val_loss: 0.6460 - val_accuracy: 0.7087\n",
      "Epoch 226/250\n",
      "52/52 [==============================] - 0s 3ms/step - loss: 0.4996 - accuracy: 0.7743 - val_loss: 0.6652 - val_accuracy: 0.7047\n",
      "Epoch 227/250\n",
      "52/52 [==============================] - 0s 3ms/step - loss: 0.4924 - accuracy: 0.7549 - val_loss: 0.6638 - val_accuracy: 0.7008\n",
      "Epoch 228/250\n",
      "52/52 [==============================] - 0s 3ms/step - loss: 0.4876 - accuracy: 0.7549 - val_loss: 0.6560 - val_accuracy: 0.7008\n",
      "Epoch 229/250\n",
      "52/52 [==============================] - 0s 3ms/step - loss: 0.4897 - accuracy: 0.7490 - val_loss: 0.6418 - val_accuracy: 0.7205\n",
      "Epoch 230/250\n",
      "52/52 [==============================] - 0s 3ms/step - loss: 0.5014 - accuracy: 0.7432 - val_loss: 0.6448 - val_accuracy: 0.7165\n",
      "Epoch 231/250\n",
      "52/52 [==============================] - 0s 3ms/step - loss: 0.4919 - accuracy: 0.7588 - val_loss: 0.6308 - val_accuracy: 0.7126\n",
      "Epoch 232/250\n",
      "52/52 [==============================] - 0s 3ms/step - loss: 0.5006 - accuracy: 0.7549 - val_loss: 0.6301 - val_accuracy: 0.7087\n",
      "Epoch 233/250\n",
      "52/52 [==============================] - 0s 3ms/step - loss: 0.4887 - accuracy: 0.7665 - val_loss: 0.6387 - val_accuracy: 0.7047\n",
      "Epoch 234/250\n",
      "52/52 [==============================] - 0s 3ms/step - loss: 0.4842 - accuracy: 0.7607 - val_loss: 0.6638 - val_accuracy: 0.7008\n",
      "Epoch 235/250\n",
      "52/52 [==============================] - 0s 3ms/step - loss: 0.4863 - accuracy: 0.7432 - val_loss: 0.6874 - val_accuracy: 0.6772\n",
      "Epoch 236/250\n",
      "52/52 [==============================] - 0s 3ms/step - loss: 0.5000 - accuracy: 0.7471 - val_loss: 0.6719 - val_accuracy: 0.7244\n",
      "Epoch 237/250\n",
      "52/52 [==============================] - 0s 3ms/step - loss: 0.4866 - accuracy: 0.7743 - val_loss: 0.6438 - val_accuracy: 0.7126\n",
      "Epoch 238/250\n",
      "52/52 [==============================] - 0s 3ms/step - loss: 0.4859 - accuracy: 0.7549 - val_loss: 0.6464 - val_accuracy: 0.7008\n",
      "Epoch 239/250\n",
      "52/52 [==============================] - 0s 3ms/step - loss: 0.4909 - accuracy: 0.7626 - val_loss: 0.6557 - val_accuracy: 0.7047\n",
      "Epoch 240/250\n",
      "52/52 [==============================] - 0s 3ms/step - loss: 0.4861 - accuracy: 0.7685 - val_loss: 0.6623 - val_accuracy: 0.7126\n",
      "Epoch 241/250\n",
      "52/52 [==============================] - 0s 3ms/step - loss: 0.4815 - accuracy: 0.7626 - val_loss: 0.6550 - val_accuracy: 0.7165\n",
      "Epoch 242/250\n",
      "52/52 [==============================] - 0s 3ms/step - loss: 0.4895 - accuracy: 0.7451 - val_loss: 0.6631 - val_accuracy: 0.7126\n",
      "Epoch 243/250\n",
      "52/52 [==============================] - 0s 3ms/step - loss: 0.4818 - accuracy: 0.7626 - val_loss: 0.6665 - val_accuracy: 0.7047\n",
      "Epoch 244/250\n",
      "52/52 [==============================] - 0s 4ms/step - loss: 0.4892 - accuracy: 0.7607 - val_loss: 0.6563 - val_accuracy: 0.7165\n",
      "Epoch 245/250\n",
      "52/52 [==============================] - 0s 3ms/step - loss: 0.4905 - accuracy: 0.7568 - val_loss: 0.6511 - val_accuracy: 0.7008\n",
      "Epoch 246/250\n",
      "52/52 [==============================] - 0s 3ms/step - loss: 0.4817 - accuracy: 0.7432 - val_loss: 0.6629 - val_accuracy: 0.7047\n",
      "Epoch 247/250\n",
      "52/52 [==============================] - 0s 3ms/step - loss: 0.4802 - accuracy: 0.7529 - val_loss: 0.6549 - val_accuracy: 0.7323\n",
      "Epoch 248/250\n",
      "52/52 [==============================] - 0s 3ms/step - loss: 0.4814 - accuracy: 0.7588 - val_loss: 0.6498 - val_accuracy: 0.7008\n",
      "Epoch 249/250\n",
      "52/52 [==============================] - 0s 3ms/step - loss: 0.4861 - accuracy: 0.7626 - val_loss: 0.6474 - val_accuracy: 0.7008\n",
      "Epoch 250/250\n",
      "52/52 [==============================] - 0s 4ms/step - loss: 0.4788 - accuracy: 0.7471 - val_loss: 0.6476 - val_accuracy: 0.7126\n"
     ]
    }
   ],
   "source": [
    "# Fit the model\n",
    "history = model.fit(X, Y, validation_split=0.33, epochs=250, batch_size=10)"
   ]
  },
  {
   "cell_type": "code",
   "execution_count": null,
   "metadata": {
    "colab": {
     "base_uri": "https://localhost:8080/"
    },
    "id": "QDxQes17iOeC",
    "outputId": "d619304d-a273-458f-99de-56f3eca46a6e"
   },
   "outputs": [
    {
     "name": "stdout",
     "output_type": "stream",
     "text": [
      "24/24 [==============================] - 0s 2ms/step - loss: 0.5319 - accuracy: 0.7487\n",
      "accuracy: 74.87%\n"
     ]
    }
   ],
   "source": [
    "# evaluate the model\n",
    "scores = model.evaluate(X, Y)\n",
    "print(\"%s: %.2f%%\" % (model.metrics_names[1], scores[1]*100))"
   ]
  },
  {
   "cell_type": "code",
   "execution_count": null,
   "metadata": {
    "colab": {
     "base_uri": "https://localhost:8080/"
    },
    "id": "xz6UEJkFXqeC",
    "outputId": "5aacac81-9ffa-4d21-df21-ae912eae7ea2"
   },
   "outputs": [
    {
     "data": {
      "text/plain": [
       "['loss', 'accuracy']"
      ]
     },
     "execution_count": 13,
     "metadata": {},
     "output_type": "execute_result"
    }
   ],
   "source": [
    "model.metrics_names"
   ]
  },
  {
   "cell_type": "code",
   "execution_count": null,
   "metadata": {
    "colab": {
     "base_uri": "https://localhost:8080/"
    },
    "id": "uq17eniJXtys",
    "outputId": "0adf718e-fc84-4f75-cd5d-a366573c28f3"
   },
   "outputs": [
    {
     "data": {
      "text/plain": [
       "[0.5318908095359802, 0.7486979365348816]"
      ]
     },
     "execution_count": 14,
     "metadata": {},
     "output_type": "execute_result"
    }
   ],
   "source": [
    "scores"
   ]
  },
  {
   "cell_type": "code",
   "execution_count": null,
   "metadata": {
    "colab": {
     "base_uri": "https://localhost:8080/"
    },
    "id": "qXJjG0hyiOeC",
    "outputId": "642d394d-d4d9-452a-b7da-7efb29a32d99"
   },
   "outputs": [
    {
     "data": {
      "text/plain": [
       "dict_keys(['loss', 'accuracy', 'val_loss', 'val_accuracy'])"
      ]
     },
     "execution_count": 15,
     "metadata": {},
     "output_type": "execute_result"
    }
   ],
   "source": [
    "# Visualize training history\n",
    "\n",
    "# list all data in history\n",
    "history.history.keys()"
   ]
  },
  {
   "cell_type": "code",
   "execution_count": null,
   "metadata": {
    "colab": {
     "base_uri": "https://localhost:8080/",
     "height": 295
    },
    "id": "rg48aQ4ziOeC",
    "outputId": "ab7ba323-ff4c-48dd-8694-d22d66cca061"
   },
   "outputs": [
    {
     "data": {
      "image/png": "[encoded data removed]",
      "text/plain": [
       "<Figure size 432x288 with 1 Axes>"
      ]
     },
     "metadata": {
      "needs_background": "light"
     },
     "output_type": "display_data"
    }
   ],
   "source": [
    "# summarize history for accuracy\n",
    "import matplotlib.pyplot as plt\n",
    "plt.plot(history.history['accuracy'])\n",
    "plt.plot(history.history['val_accuracy'])\n",
    "plt.title('model accuracy')\n",
    "plt.ylabel('accuracy')\n",
    "plt.xlabel('epoch')\n",
    "plt.legend(['train', 'test'], loc='upper left')\n",
    "plt.show()"
   ]
  },
  {
   "cell_type": "code",
   "execution_count": null,
   "metadata": {
    "colab": {
     "base_uri": "https://localhost:8080/",
     "height": 295
    },
    "id": "6e57Dg0-iOeD",
    "outputId": "4964dec3-9b13-430f-fd0b-a2d1026bc790"
   },
   "outputs": [
    {
     "data": {
      "image/png": "[encoded data removed]",
      "text/plain": [
       "<Figure size 432x288 with 1 Axes>"
      ]
     },
     "metadata": {
      "needs_background": "light"
     },
     "output_type": "display_data"
    }
   ],
   "source": [
    "# summarize history for loss\n",
    "plt.plot(history.history['loss'])\n",
    "plt.plot(history.history['val_loss'])\n",
    "plt.title('model loss')\n",
    "plt.ylabel('loss')\n",
    "plt.xlabel('epoch')\n",
    "plt.legend(['train', 'test'], loc='upper left')\n",
    "plt.show()"
   ]
  }
 ],
 "metadata": {
  "colab": {
   "collapsed_sections": [],
   "name": "ExcelR_32_1.Neural Network_Back Propagation.ipynb",
   "provenance": []
  },
  "kernelspec": {
   "display_name": "Python 3 (ipykernel)",
   "language": "python",
   "name": "python3"
  },
  "language_info": {
   "codemirror_mode": {
    "name": "ipython",
    "version": 3
   },
   "file_extension": ".py",
   "mimetype": "text/x-python",
   "name": "python",
   "nbconvert_exporter": "python",
   "pygments_lexer": "ipython3",
   "version": "3.9.7"
  }
 },
 "nbformat": 4,
 "nbformat_minor": 4
}
